{
 "cells": [
  {
   "cell_type": "markdown",
   "metadata": {},
   "source": [
    "## Task3 Sentiment Net"
   ]
  },
  {
   "cell_type": "code",
   "execution_count": 1,
   "metadata": {},
   "outputs": [],
   "source": [
    "from bengali_data import BengaliData\n",
    "from hindi_data import HASOCData\n",
    "from model import SentimentNet\n",
    "from train import train_model \n",
    "from hindi_eval import evaluate_hindi_test_set\n",
    "from bengali_eval import evaluate_bengali_test_set\n",
    "import torch\n",
    "import pickle\n",
    "from config import config_dict\n",
    "from torch import nn"
   ]
  },
  {
   "cell_type": "code",
   "execution_count": 2,
   "metadata": {},
   "outputs": [],
   "source": [
    "def main():\n",
    "    bengali_data = BengaliData(config_dict['bengali_file_paths'])\n",
    "    hindi_data = HASOCData(config_dict['hindi_file_paths'])\n",
    "    with open(config_dict['bengali_file_paths']['embeddings_path'], 'rb') as f:\n",
    "        bengali_embedding_weights = pickle.load(f)\n",
    "    \n",
    "    with open(config_dict['hindi_file_paths']['embeddings_path'], 'rb') as f:\n",
    "        hindi_embedding_weights = pickle.load(f)\n",
    "\n",
    "    ## check whether the pre-trained embeddings are the same shape as of train vocabulary\n",
    "    assert bengali_embedding_weights.T.shape == (len(bengali_data.vocab), config_dict['embedding_size']), \"Pre-trained Bengali embeddings size not equal to size of embedding layer\"\n",
    "    assert hindi_embedding_weights.T.shape == (len(hindi_data.vocab), config_dict['embedding_size']), \"Pre-trained Hindi embeddings size not equal to size of embedding layer\"\n",
    "\n",
    "    ## create model instance  with configurations coming from config file\n",
    "    model = SentimentNet(batch_size=config_dict['batch_size'], output_size=config_dict['num_classes'], \n",
    "                            bengali_vocab_size=len(bengali_data.vocab), hidden_size=config_dict['hidden_size'], \n",
    "                            embedding_size=config_dict['embedding_size'], hindi_weights=torch.FloatTensor(hindi_embedding_weights.T), bengali_weights=torch.FloatTensor(bengali_embedding_weights.T),\n",
    "                            lstm_layers=config_dict['lstm_layers'], device=config_dict['device'], hindi_vocab_size=len(hindi_data.vocab),\n",
    "                            bidirectional=config_dict['is_bi_lstm'], pretrained_path=config_dict['bengali_file_paths']['pretrained_path'],\n",
    "                            self_attention_config=config_dict['self_attention_config'], fc_hidden_size=config_dict['fc_hidden_size']).to(config_dict['device'])\n",
    "\n",
    "    ## load pre_trained layers\n",
    "    if config_dict['pretraining']:\n",
    "        model.load_pretrained_layers()\n",
    "\n",
    "    ## get dataloaders for train and test set\n",
    "    bengali_dataloader = bengali_data.get_data_loader(batch_size=config_dict['batch_size'])\n",
    "    hindi_dataloader = hindi_data.get_data_loader(batch_size=config_dict['batch_size'])\n",
    "\n",
    "    ## filtering out embedding weights since they won't be optimized\n",
    "    optimizer = torch.optim.Adam(filter(lambda p: p.requires_grad, model.parameters()))\n",
    "\n",
    "    ## try loading model if it exists as pre-trained on disk\n",
    "    try:\n",
    "        model.load_state_dict(torch.load('{}.pth'.format(config_dict['model_name']), map_location=torch.device(config_dict['device'])))\n",
    "        print('model loaded...')\n",
    "    except:\n",
    "        print('no prior model')\n",
    "    \n",
    "    ## training the model on train set\n",
    "    \"\"\"train_model(model, optimizer, bengali_dataloader=bengali_dataloader, hindi_dataloader=hindi_dataloader, \n",
    "                hindi_data=hindi_data, bengali_data=bengali_data, max_epochs=config_dict['epochs'], config_dict=config_dict)\n",
    "    \"\"\"\n",
    "    \n",
    "    ## evaluate model on test set\n",
    "    evaluate_bengali_test_set(model, bengali_data, bengali_dataloader, device=config_dict['device'])\n",
    "    evaluate_hindi_test_set(model, hindi_data, hindi_dataloader, device=config_dict['device'])"
   ]
  },
  {
   "cell_type": "code",
   "execution_count": 3,
   "metadata": {},
   "outputs": [
    {
     "name": "stderr",
     "output_type": "stream",
     "text": [
      "INFO:root:loading and preprocessing data...\n",
      "INFO:root:reading and preprocessing data completed...\n",
      "INFO:root:creating vocabulary...\n",
      "INFO:root:creating vocabulary completed...\n",
      "INFO:root:loading and preprocessing data...\n",
      "INFO:root:reading and preprocessing data completed...\n",
      "INFO:root:creating vocabulary...\n",
      "INFO:root:creating vocabulary completed...\n",
      "INFO:root:Evaluating accuracy on Bengali test set\n"
     ]
    },
    {
     "name": "stdout",
     "output_type": "stream",
     "text": [
      "model loaded...\n"
     ]
    },
    {
     "name": "stderr",
     "output_type": "stream",
     "text": [
      "INFO:root:Evaluating accuracy on Hindi test set\n"
     ]
    },
    {
     "name": "stdout",
     "output_type": "stream",
     "text": [
      "Bengali Test acc: 0.7535070140280561\n",
      "Bengali Classification Report\n",
      "\n",
      "\n",
      "                 precision    recall  f1-score   support\n",
      "\n",
      "non hate speech       0.72      0.78      0.75       472\n",
      "    hate speech       0.79      0.73      0.76       526\n",
      "\n",
      "       accuracy                           0.75       998\n",
      "      macro avg       0.75      0.75      0.75       998\n",
      "   weighted avg       0.76      0.75      0.75       998\n",
      "\n",
      "Hindi Test acc: 0.7296137339055794\n",
      "Hindi Classification Report\n",
      "\n",
      "\n",
      "                 precision    recall  f1-score   support\n",
      "\n",
      "non hate speech       0.68      0.80      0.73       435\n",
      "    hate speech       0.79      0.67      0.73       497\n",
      "\n",
      "       accuracy                           0.73       932\n",
      "      macro avg       0.73      0.73      0.73       932\n",
      "   weighted avg       0.74      0.73      0.73       932\n",
      "\n"
     ]
    }
   ],
   "source": [
    "main()"
   ]
  }
 ],
 "metadata": {
  "kernelspec": {
   "display_name": "Python 3",
   "language": "python",
   "name": "python3"
  },
  "language_info": {
   "codemirror_mode": {
    "name": "ipython",
    "version": 3
   },
   "file_extension": ".py",
   "mimetype": "text/x-python",
   "name": "python",
   "nbconvert_exporter": "python",
   "pygments_lexer": "ipython3",
   "version": "3.7.3"
  }
 },
 "nbformat": 4,
 "nbformat_minor": 4
}
