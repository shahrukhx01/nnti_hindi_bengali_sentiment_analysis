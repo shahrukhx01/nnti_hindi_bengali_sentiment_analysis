{
 "cells": [
  {
   "cell_type": "markdown",
   "metadata": {},
   "source": [
    "## Task3"
   ]
  },
  {
   "cell_type": "code",
   "execution_count": 1,
   "metadata": {},
   "outputs": [],
   "source": [
    "from data import HASOCData\n",
    "from model import HindiLSTMAttentionClassifier\n",
    "from train import train_model \n",
    "from eval import evaluate_test_set\n",
    "import torch\n",
    "import pickle\n",
    "from config import config_dict\n",
    "from torch import nn\n",
    "\n",
    "\n"
   ]
  },
  {
   "cell_type": "code",
   "execution_count": 2,
   "metadata": {},
   "outputs": [],
   "source": [
    "def main():\n",
    "    data = HASOCData(config_dict['file_paths'])\n",
    "    with open(config_dict['file_paths']['embeddings_path'], 'rb') as f:\n",
    "        embedding_weights = pickle.load(f)\n",
    "\n",
    "    ## check whether the pre-trained embeddings are the same shape as of train vocabulary\n",
    "    assert embedding_weights.T.shape == (len(data.vocab), config_dict['embedding_size']), \"Pre-trained embeddings size not equal to size of embedding layer\"\n",
    "\n",
    "    ## create model instance  with configurations coming from config file\n",
    "    model = HindiLSTMAttentionClassifier(batch_size=config_dict['batch_size'], output_size=config_dict['num_classes'], \n",
    "                                vocab_size=len(data.vocab), hidden_size=config_dict['hidden_size'], \n",
    "                                embedding_size=config_dict['embedding_size'], weights=torch.FloatTensor(embedding_weights.T),\n",
    "                                lstm_layers=config_dict['lstm_layers'], device=config_dict['device'], dropout=config_dict['dropout'],\n",
    "                                bidirectional=config_dict['is_bi_lstm'], self_attention_config=config_dict['self_attention_config'], \n",
    "                                fc_hidden_size=config_dict['fc_hidden_size']).to(config_dict['device'])\n",
    "\n",
    "    \n",
    "\n",
    "    ## get dataloaders for train and test set\n",
    "    hasoc_dataloader = data.get_data_loader(batch_size=config_dict['batch_size'])\n",
    "\n",
    "    ## filtering out embedding weights since they won't be optimized\n",
    "    optimizer = torch.optim.Adam(filter(lambda p: p.requires_grad, model.parameters()))\n",
    "\n",
    "    ## try loading model if it exists as pre-trained on disk\n",
    "    try:\n",
    "        model.load_state_dict(torch.load('{}.pth'.format(config_dict['model_name']), map_location=torch.device(config_dict['device'])))\n",
    "        print('model loaded...')\n",
    "    except Exception as e:\n",
    "        print('no prior model')\n",
    "    \n",
    "    ## training the model on train set\n",
    "    #train_model(model, optimizer, hasoc_dataloader, data, max_epochs=config_dict['epochs'],config_dict=config_dict)\n",
    "\n",
    "    ## evaluate model on test set\n",
    "    evaluate_test_set(model, data, hasoc_dataloader, device=config_dict['device'])\n",
    "\n"
   ]
  },
  {
   "cell_type": "code",
   "execution_count": 3,
   "metadata": {},
   "outputs": [
    {
     "name": "stderr",
     "output_type": "stream",
     "text": [
      "INFO:root:loading and preprocessing data...\n",
      "INFO:root:reading and preprocessing data completed...\n",
      "INFO:root:creating vocabulary...\n",
      "INFO:root:creating vocabulary completed...\n",
      "INFO:root:Evaluating accuracy on test set\n"
     ]
    },
    {
     "name": "stdout",
     "output_type": "stream",
     "text": [
      "model loaded...\n",
      "Test acc: 0.7542918454935622\n",
      "\n",
      "\n",
      "\n",
      "                 precision    recall  f1-score   support\n",
      "\n",
      "non hate speech       0.74      0.74      0.74       435\n",
      "    hate speech       0.77      0.77      0.77       497\n",
      "\n",
      "       accuracy                           0.75       932\n",
      "      macro avg       0.75      0.75      0.75       932\n",
      "   weighted avg       0.75      0.75      0.75       932\n",
      "\n"
     ]
    }
   ],
   "source": [
    "main()"
   ]
  },
  {
   "cell_type": "code",
   "execution_count": null,
   "metadata": {},
   "outputs": [],
   "source": []
  }
 ],
 "metadata": {
  "kernelspec": {
   "display_name": "Python 3",
   "language": "python",
   "name": "python3"
  },
  "language_info": {
   "codemirror_mode": {
    "name": "ipython",
    "version": 3
   },
   "file_extension": ".py",
   "mimetype": "text/x-python",
   "name": "python",
   "nbconvert_exporter": "python",
   "pygments_lexer": "ipython3",
   "version": "3.7.3"
  }
 },
 "nbformat": 4,
 "nbformat_minor": 4
}
