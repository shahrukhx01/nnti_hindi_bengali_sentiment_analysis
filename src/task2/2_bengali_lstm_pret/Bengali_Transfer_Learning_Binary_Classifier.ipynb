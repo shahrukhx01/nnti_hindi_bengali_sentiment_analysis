{
 "cells": [
  {
   "cell_type": "markdown",
   "metadata": {},
   "source": [
    "## Task2 Bengali"
   ]
  },
  {
   "cell_type": "code",
   "execution_count": 1,
   "metadata": {},
   "outputs": [],
   "source": [
    "#imports\n",
    "from data import BengaliData\n",
    "from model import BengaliLSTMClassifier\n",
    "from train import train_model \n",
    "from eval import evaluate_test_set\n",
    "import torch\n",
    "import pickle\n",
    "from config import config_dict\n",
    "from torch import nn"
   ]
  },
  {
   "cell_type": "code",
   "execution_count": 2,
   "metadata": {},
   "outputs": [
    {
     "name": "stderr",
     "output_type": "stream",
     "text": [
      "INFO:root:loading and preprocessing data...\n",
      "INFO:root:reading and preprocessing data completed...\n",
      "INFO:root:creating vocabulary...\n",
      "INFO:root:creating vocabulary completed...\n"
     ]
    }
   ],
   "source": [
    "## load vocab and embedding weights\n",
    "data = BengaliData(config_dict['file_paths'])\n",
    "with open(config_dict['file_paths']['embeddings_path'], 'rb') as f:\n",
    "    embedding_weights = pickle.load(f)\n"
   ]
  },
  {
   "cell_type": "code",
   "execution_count": 3,
   "metadata": {},
   "outputs": [],
   "source": [
    "## check whether the pre-trained embeddings are the same shape as of train vocabulary\n",
    "assert embedding_weights.T.shape == (len(data.vocab), config_dict['embedding_size']), \"Pre-trained embeddings size not equal to size of embedding layer\"\n"
   ]
  },
  {
   "cell_type": "code",
   "execution_count": 4,
   "metadata": {},
   "outputs": [],
   "source": [
    "## create model instance  with configurations coming from config file\n",
    "model = BengaliLSTMClassifier(pretrained_state_dict_path= config_dict['file_paths']['pretrained_path'], batch_size=config_dict['batch_size'], output_size=config_dict['num_classes'], \n",
    "                            vocab_size=len(data.vocab), hidden_size=config_dict['hidden_size'], \n",
    "                            embedding_size=config_dict['embedding_size'], weights=torch.FloatTensor(embedding_weights.T),\n",
    "                            lstm_layers=config_dict['lstm_layers'], device=config_dict['device']).to(config_dict['device'])\n",
    "\n"
   ]
  },
  {
   "cell_type": "markdown",
   "metadata": {},
   "source": [
    "##  Loading pretrained LSTM & FC weights from Hindi Classifier"
   ]
  },
  {
   "cell_type": "code",
   "execution_count": 5,
   "metadata": {},
   "outputs": [
    {
     "name": "stdout",
     "output_type": "stream",
     "text": [
      "Loading pretrained weights...\n",
      "Skipping the following layer(s): word_embeddings.weight\n"
     ]
    }
   ],
   "source": [
    "## load pretrained weights\n",
    "model.load_pretrained_layers()"
   ]
  },
  {
   "cell_type": "code",
   "execution_count": 6,
   "metadata": {},
   "outputs": [],
   "source": [
    "\n",
    "## get dataloaders for train and test set\n",
    "bengali_dataloader = data.get_data_loader(batch_size=config_dict['batch_size'])\n",
    "\n",
    "## filtering out embedding weights since they won't be optimized\n",
    "optimizer = torch.optim.Adam(filter(lambda p: p.requires_grad, model.parameters()))\n",
    "\n"
   ]
  },
  {
   "cell_type": "code",
   "execution_count": 7,
   "metadata": {},
   "outputs": [],
   "source": [
    "## training the model on train set\n",
    "#model = train_model(model, optimizer, bengali_dataloader, data, max_epochs=config_dict['epochs'],config_dict=config_dict)"
   ]
  },
  {
   "cell_type": "code",
   "execution_count": 8,
   "metadata": {},
   "outputs": [
    {
     "name": "stderr",
     "output_type": "stream",
     "text": [
      "INFO:root:Evaluating accuracy on test set\n"
     ]
    },
    {
     "name": "stdout",
     "output_type": "stream",
     "text": [
      "Test acc: 0.6943887775551102\n",
      "\n",
      "\n",
      "\n",
      "                 precision    recall  f1-score   support\n",
      "\n",
      "non hate speech       0.70      0.61      0.66       472\n",
      "    hate speech       0.69      0.77      0.73       526\n",
      "\n",
      "       accuracy                           0.69       998\n",
      "      macro avg       0.70      0.69      0.69       998\n",
      "   weighted avg       0.70      0.69      0.69       998\n",
      "\n"
     ]
    }
   ],
   "source": [
    "## loading the best model saved during training from disk\n",
    "model.load_state_dict(torch.load('{}.pth'.format(config_dict['model_name']), map_location=torch.device(config_dict['device'])))\n",
    "## evaluate model on test set\n",
    "evaluate_test_set(model, data, bengali_dataloader, device=config_dict['device'])"
   ]
  }
 ],
 "metadata": {
  "kernelspec": {
   "display_name": "Python 3",
   "language": "python",
   "name": "python3"
  },
  "language_info": {
   "codemirror_mode": {
    "name": "ipython",
    "version": 3
   },
   "file_extension": ".py",
   "mimetype": "text/x-python",
   "name": "python",
   "nbconvert_exporter": "python",
   "pygments_lexer": "ipython3",
   "version": "3.7.3"
  }
 },
 "nbformat": 4,
 "nbformat_minor": 4
}
