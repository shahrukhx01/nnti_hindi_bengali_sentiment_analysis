{
 "cells": [
  {
   "cell_type": "markdown",
   "metadata": {},
   "source": [
    "## Task2"
   ]
  },
  {
   "cell_type": "code",
   "execution_count": 13,
   "metadata": {},
   "outputs": [
    {
     "name": "stderr",
     "output_type": "stream",
     "text": [
      "INFO:root:loading and preprocessing data...\n",
      "INFO:root:reading and preprocessing data completed...\n",
      "INFO:root:creating vocabulary...\n",
      "INFO:root:creating vocabulary completed...\n"
     ]
    },
    {
     "name": "stdout",
     "output_type": "stream",
     "text": [
      "embed (20526, 300) expect (20526, 300)\n",
      "Epoch: 0\n",
      "0.4778039888483809\n",
      "Epoch: 1\n",
      "0.489813424833798\n",
      "Epoch: 2\n",
      "0.4713703624276217\n",
      "Epoch: 3\n",
      "0.4750160840660519\n",
      "Epoch: 4\n",
      "0.4816641647008364\n"
     ]
    }
   ],
   "source": [
    "from data import HASOCData\n",
    "from model import HindiLSTMClassifier\n",
    "from train import train_model\n",
    "import torch\n",
    "import pickle\n",
    "from config import config_dict\n",
    "from torch import nn\n",
    "from sklearn.metrics import classification_report, confusion_matrix, accuracy_score\n",
    "\n",
    "def main():\n",
    "    data = HASOCData(config_dict['file_paths'])\n",
    "    with open(config_dict['file_paths']['embeddings_path'], 'rb') as f:\n",
    "        embedding_weights = pickle.load(f)\n",
    "\n",
    "    ## check whether the pre-trained embeddings are the same shape as of train vocabulary\n",
    "    assert embedding_weights.T.shape == (len(data.vocab), config_dict['embedding_size']), \"Pre-trained embeddings size not equal to size of embedding layer\"\n",
    "\n",
    "    model = HindiLSTMClassifier(batch_size=config_dict['batch_size'], output_size=config_dict['num_classes'], vocab_size=len(data.vocab), \\\n",
    "                                hidden_size=config_dict['hidden_size'], embedding_size=config_dict['embedding_size'], weights=torch.FloatTensor(embedding_weights.T),\\\n",
    "                                lstm_layers=config_dict['lstm_layers'], device=config_dict['device'])\n",
    "                                \n",
    "    #model.load_state_dict(torch.load('hindi_classifier.pth'))\n",
    "    optimizer = torch.optim.Adam(filter(lambda p: p.requires_grad, model.parameters()))\n",
    "    train_model(model, optimizer, data, config_dict['batch_size'], max_epochs=config_dict['epochs'], config_dict=config_dict)\n",
    "\n",
    "\n",
    "\n",
    "if __name__ == \"__main__\":\n",
    "    main()"
   ]
  }
 ],
 "metadata": {
  "kernelspec": {
   "display_name": "Python 3",
   "language": "python",
   "name": "python3"
  },
  "language_info": {
   "codemirror_mode": {
    "name": "ipython",
    "version": 3
   },
   "file_extension": ".py",
   "mimetype": "text/x-python",
   "name": "python",
   "nbconvert_exporter": "python",
   "pygments_lexer": "ipython3",
   "version": "3.7.3"
  }
 },
 "nbformat": 4,
 "nbformat_minor": 4
}
