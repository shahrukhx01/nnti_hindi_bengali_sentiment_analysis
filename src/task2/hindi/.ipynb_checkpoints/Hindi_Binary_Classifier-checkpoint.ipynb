{
 "cells": [
  {
   "cell_type": "markdown",
   "metadata": {},
   "source": [
    "## Task2"
   ]
  },
  {
   "cell_type": "code",
   "execution_count": 13,
   "metadata": {},
   "outputs": [
    {
     "name": "stderr",
     "output_type": "stream",
     "text": [
      "INFO:root:loading and preprocessing data...\n",
      "INFO:root:reading and preprocessing data completed...\n",
      "INFO:root:creating vocabulary...\n",
      "INFO:root:creating vocabulary completed...\n"
     ]
    },
    {
     "name": "stdout",
     "output_type": "stream",
     "text": [
      "embed (20526, 300) expect (20526, 300)\n",
      "Epoch: 0\n",
      "0.4778039888483809\n",
      "Epoch: 1\n",
      "0.489813424833798\n",
      "Epoch: 2\n",
      "0.4713703624276217\n",
      "Epoch: 3\n",
      "0.4750160840660519\n",
      "Epoch: 4\n",
      "0.4816641647008364\n"
     ]
    }
   ],
   "source": [
    "from data import HASOCData\n",
    "from model import HindiLSTMClassifier\n",
    "from train import train_model \n",
    "from eval import evaluate_test_set\n",
    "import torch\n",
    "import pickle\n",
    "from config import config_dict\n",
    "from torch import nn\n",
    "\n",
    "def main():\n",
    "    data = HASOCData(config_dict['file_paths'])\n",
    "    with open(config_dict['file_paths']['embeddings_path'], 'rb') as f:\n",
    "        embedding_weights = pickle.load(f)\n",
    "\n",
    "    ## check whether the pre-trained embeddings are the same shape as of train vocabulary\n",
    "    assert embedding_weights.T.shape == (len(data.vocab), config_dict['embedding_size']), \"Pre-trained embeddings size not equal to size of embedding layer\"\n",
    "\n",
    "    model = HindiLSTMClassifier(batch_size=config_dict['batch_size'], output_size=config_dict['num_classes'], \n",
    "                                vocab_size=len(data.vocab), hidden_size=config_dict['hidden_size'], \n",
    "                                embedding_size=config_dict['embedding_size'], weights=torch.FloatTensor(embedding_weights.T),\n",
    "                                lstm_layers=config_dict['lstm_layers'], device=config_dict['device']).to(config_dict['device'])\n",
    "\n",
    "    \n",
    "\n",
    "    ## get dataloaders for train and test set\n",
    "    hasoc_dataloader = data.get_data_loader(batch_size=config_dict['batch_size'])\n",
    "\n",
    "    ## filtering out embedding weights since they won't be optimized\n",
    "    optimizer = torch.optim.Adam(filter(lambda p: p.requires_grad, model.parameters()))\n",
    "\n",
    "    ## training the model on train set\n",
    "    train_model(model, optimizer, hasoc_dataloader, data, max_epochs=config_dict['epochs'],config_dict=config_dict)\n",
    "\n",
    "    ## loading the best model saved during training from disk\n",
    "    model.load_state_dict(torch.load('{}.pth'.format(config_dict['model_name'])))\n",
    "\n",
    "    ## evaluate model on test set\n",
    "    evaluate_test_set(model, data, hasoc_dataloader, device=config_dict['device'])\n",
    "\n",
    "if __name__ == \"__main__\":\n",
    "    main()"
   ]
  }
 ],
 "metadata": {
  "kernelspec": {
   "display_name": "Python 3",
   "language": "python",
   "name": "python3"
  },
  "language_info": {
   "codemirror_mode": {
    "name": "ipython",
    "version": 3
   },
   "file_extension": ".py",
   "mimetype": "text/x-python",
   "name": "python",
   "nbconvert_exporter": "python",
   "pygments_lexer": "ipython3",
   "version": "3.7.3"
  }
 },
 "nbformat": 4,
 "nbformat_minor": 4
}
