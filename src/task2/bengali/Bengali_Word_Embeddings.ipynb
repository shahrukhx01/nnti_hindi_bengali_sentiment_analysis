{
 "cells": [
  {
   "cell_type": "markdown",
   "metadata": {
    "id": "_VZXi_KGi0UR"
   },
   "source": [
    "# Task 1: Word Embeddings (10 points)\n",
    "\n",
    "This notebook will guide you through all steps necessary to train a word2vec model (Detailed description in the PDF)."
   ]
  },
  {
   "cell_type": "markdown",
   "metadata": {
    "id": "48t-II1vkuau"
   },
   "source": [
    "## Imports\n",
    "\n",
    "This code block is reserved for your imports. \n",
    "\n",
    "You are free to use the following packages: \n",
    "\n",
    "(List of packages)"
   ]
  },
  {
   "cell_type": "code",
   "execution_count": 1,
   "metadata": {
    "id": "4kh6nh84-AOL"
   },
   "outputs": [],
   "source": [
    "# Imports\n",
    "import torch\n",
    "from torch import nn\n",
    "import pandas as pd\n",
    "import re\n",
    "import numpy as np\n",
    "from torch.utils.data import Dataset\n",
    "from torch.utils.data import DataLoader\n",
    "from torch.utils.data.dataloader import default_collate\n",
    "from tqdm import tqdm\n",
    "from torchsummary import summary\n",
    "import matplotlib.pylab as plt"
   ]
  },
  {
   "cell_type": "markdown",
   "metadata": {
    "id": "NWmk3hVllEcU"
   },
   "source": [
    "# 1.1 Get the data (0.5 points)\n",
    "\n",
    "The Hindi portion HASOC corpus from [github.io](https://hasocfire.github.io/hasoc/2019/dataset.html) is already available in the repo, at data/hindi_hatespeech.tsv . Load it into a data structure of your choice. Then, split off a small part of the corpus as a development set (~100 data points).\n",
    "\n",
    "If you are using Colab the first two lines will let you upload folders or files from your local file system."
   ]
  },
  {
   "cell_type": "code",
   "execution_count": 15,
   "metadata": {
    "id": "XtI7DJ-0-AOP"
   },
   "outputs": [],
   "source": [
    "#TODO: implement!\n",
    "\n",
    "#from google.colab import files\n",
    "#uploaded = files.upload()\n",
    "\n",
    "data = pd.read_csv('data/bengali_hatespeech_.csv')\n"
   ]
  },
  {
   "cell_type": "code",
   "execution_count": 16,
   "metadata": {},
   "outputs": [
    {
     "data": {
      "text/plain": [
       "HOF    2469\n",
       "NOT    2196\n",
       "Name: task_1, dtype: int64"
      ]
     },
     "execution_count": 16,
     "metadata": {},
     "output_type": "execute_result"
    }
   ],
   "source": [
    "hindi_data.task_1.value_counts()"
   ]
  },
  {
   "cell_type": "code",
   "execution_count": 11,
   "metadata": {
    "id": "CH5L51dVJNAX"
   },
   "outputs": [],
   "source": [
    "stopwords_bengali_file = open('data/stopwords-bn.txt', 'r')\n",
    "stopwords_bengali = [line.replace('\\n','') for line in stopwords_bengali_file.readlines()]"
   ]
  },
  {
   "cell_type": "code",
   "execution_count": 4,
   "metadata": {
    "colab": {
     "base_uri": "https://localhost:8080/",
     "height": 204
    },
    "id": "Ms61IeZXCa9d",
    "outputId": "378cb7f2-fbbf-4674-8085-c57829a427dd"
   },
   "outputs": [
    {
     "data": {
      "text/html": [
       "<div>\n",
       "<style scoped>\n",
       "    .dataframe tbody tr th:only-of-type {\n",
       "        vertical-align: middle;\n",
       "    }\n",
       "\n",
       "    .dataframe tbody tr th {\n",
       "        vertical-align: top;\n",
       "    }\n",
       "\n",
       "    .dataframe thead th {\n",
       "        text-align: right;\n",
       "    }\n",
       "</style>\n",
       "<table border=\"1\" class=\"dataframe\">\n",
       "  <thead>\n",
       "    <tr style=\"text-align: right;\">\n",
       "      <th></th>\n",
       "      <th>sentence</th>\n",
       "      <th>hate</th>\n",
       "      <th>category</th>\n",
       "    </tr>\n",
       "  </thead>\n",
       "  <tbody>\n",
       "    <tr>\n",
       "      <th>0</th>\n",
       "      <td>যত্তসব পাপন শালার ফাজলামী!!!!!</td>\n",
       "      <td>1</td>\n",
       "      <td>sports</td>\n",
       "    </tr>\n",
       "    <tr>\n",
       "      <th>1</th>\n",
       "      <td>পাপন শালা রে রিমান্ডে নেওয়া দরকার</td>\n",
       "      <td>1</td>\n",
       "      <td>sports</td>\n",
       "    </tr>\n",
       "    <tr>\n",
       "      <th>2</th>\n",
       "      <td>জিল্লুর রহমান স্যারের ছেলে এতো বড় জারজ হবে এটা...</td>\n",
       "      <td>1</td>\n",
       "      <td>sports</td>\n",
       "    </tr>\n",
       "    <tr>\n",
       "      <th>3</th>\n",
       "      <td>শালা লুচ্চা দেখতে পাঠার মত দেখা যায়</td>\n",
       "      <td>1</td>\n",
       "      <td>sports</td>\n",
       "    </tr>\n",
       "    <tr>\n",
       "      <th>4</th>\n",
       "      <td>তুই তো শালা গাজা খাইছচ।তুর মার হেডায় খেলবে সাকিব</td>\n",
       "      <td>1</td>\n",
       "      <td>sports</td>\n",
       "    </tr>\n",
       "  </tbody>\n",
       "</table>\n",
       "</div>"
      ],
      "text/plain": [
       "                                            sentence  hate category\n",
       "0                     যত্তসব পাপন শালার ফাজলামী!!!!!     1   sports\n",
       "1                  পাপন শালা রে রিমান্ডে নেওয়া দরকার     1   sports\n",
       "2  জিল্লুর রহমান স্যারের ছেলে এতো বড় জারজ হবে এটা...     1   sports\n",
       "3                শালা লুচ্চা দেখতে পাঠার মত দেখা যায়     1   sports\n",
       "4   তুই তো শালা গাজা খাইছচ।তুর মার হেডায় খেলবে সাকিব     1   sports"
      ]
     },
     "execution_count": 4,
     "metadata": {},
     "output_type": "execute_result"
    }
   ],
   "source": [
    "data.head()"
   ]
  },
  {
   "cell_type": "code",
   "execution_count": 25,
   "metadata": {},
   "outputs": [],
   "source": [
    "def subset_data(n_positive, n_negative, df, split_col, random_seed=42):\n",
    "    ## sampling the required samples for each label\n",
    "    positive_df = df[df[split_col] == 1].sample(n_positive, random_state=random_seed)\n",
    "    negative_df = df[df[split_col] == 0].sample(n_negative, random_state=random_seed)\n",
    "    \n",
    "    ## creating list of frames for concatenation\n",
    "    frames = [positive_df, negative_df]\n",
    "    \n",
    "    return pd.concat(frames)"
   ]
  },
  {
   "cell_type": "code",
   "execution_count": 30,
   "metadata": {},
   "outputs": [],
   "source": [
    "bengali_subset_df = subset_data(n_positive=2469, n_negative=2196, df=data, split_col='hate')"
   ]
  },
  {
   "cell_type": "code",
   "execution_count": 7,
   "metadata": {},
   "outputs": [
    {
     "data": {
      "text/plain": [
       "0    20000\n",
       "1    10000\n",
       "Name: hate, dtype: int64"
      ]
     },
     "execution_count": 7,
     "metadata": {},
     "output_type": "execute_result"
    }
   ],
   "source": [
    "data.hate.value_counts()"
   ]
  },
  {
   "cell_type": "code",
   "execution_count": null,
   "metadata": {
    "colab": {
     "base_uri": "https://localhost:8080/"
    },
    "id": "U-XfPp6yCqAg",
    "outputId": "48e34d51-3042-4180-bbc0-31627b2d3e12"
   },
   "outputs": [
    {
     "data": {
      "text/plain": [
       "(1000, 6)"
      ]
     },
     "execution_count": 48,
     "metadata": {
      "tags": []
     },
     "output_type": "execute_result"
    }
   ],
   "source": [
    "data = data.sample(1000)\n",
    "data.shape"
   ]
  },
  {
   "cell_type": "code",
   "execution_count": 36,
   "metadata": {},
   "outputs": [
    {
     "data": {
      "text/plain": [
       "(17059, 25017)"
      ]
     },
     "execution_count": 36,
     "metadata": {},
     "output_type": "execute_result"
    }
   ],
   "source": [
    "V = list(bengali_subset_df.sentence.str.split(expand=True).stack().value_counts().keys())\n",
    "V2 = list(hindi_data.text.str.split(expand=True).stack().value_counts().keys())\n",
    "len(V) , len(V2)"
   ]
  },
  {
   "cell_type": "markdown",
   "metadata": {
    "id": "D-mSJ8nUlupB"
   },
   "source": [
    "## 1.2 Data preparation (0.5 + 0.5 points)\n",
    "\n",
    "* Prepare the data by removing everything that does not contain information. \n",
    "User names (starting with '@') and punctuation symbols clearly do not convey information, but we also want to get rid of so-called [stopwords](https://en.wikipedia.org/wiki/Stop_word), i. e. words that have little to no semantic content (and, but, yes, the...). Hindi stopwords can be found [here](https://github.com/stopwords-iso/stopwords-hi/blob/master/stopwords-hi.txt) Then, standardize the spelling by lowercasing all words.\n",
    "Do this for the development section of the corpus for now.\n",
    "\n",
    "## * ?? What about hashtags (starting with '#') and emojis? Should they be removed too? Justify your answer in the report, and explain how you accounted for this in your implementation."
   ]
  },
  {
   "cell_type": "code",
   "execution_count": 33,
   "metadata": {
    "id": "TEyZpk5GEaxM"
   },
   "outputs": [],
   "source": [
    "USERNAME_PATTERN = r'@([A-Za-z0-9_]+)'\n",
    "PUNCTUATION_PATTERN = '\\'’|!@$%^&*()_+<>?:.,;-'"
   ]
  },
  {
   "cell_type": "code",
   "execution_count": 34,
   "metadata": {
    "id": "CHcNeyKi-AOQ"
   },
   "outputs": [],
   "source": [
    "#TODO: implement!\n",
    "def remove_punctuations(text):\n",
    "  return \"\".join([c for c in text if c not in PUNCTUATION_PATTERN])\n",
    "\n",
    "def remove_stopwords(text):\n",
    "  return \" \".join([word for word in text.split() if word not in stopwords_hindi])\n",
    "\n",
    "def remove_usernames(text):  \n",
    "  return re.sub(USERNAME_PATTERN, '', text)\n",
    "  "
   ]
  },
  {
   "cell_type": "code",
   "execution_count": null,
   "metadata": {
    "id": "KFE0aAZmEwz1"
   },
   "outputs": [],
   "source": [
    "## normalizing text to lower case\n",
    "data['clean_text'] = data.text.apply(lambda text: text.lower())\n",
    "\n",
    "## removing usernames\n",
    "data['clean_text'] = data.clean_text.apply(remove_usernames)\n",
    "\n",
    "## removing punctuations\n",
    "data['clean_text'] = data.clean_text.apply(remove_punctuations)\n",
    "\n",
    "## removing stopwords\n",
    "data['clean_text'] = data.clean_text.apply(remove_stopwords)\n"
   ]
  },
  {
   "cell_type": "markdown",
   "metadata": {
    "id": "Je09nozLmmMm"
   },
   "source": [
    "## 1.3 Build the vocabulary (0.5 + 0.5 points)\n",
    "\n",
    "The input to the first layer of word2vec is an one-hot encoding of the current word. The output od the model is then compared to a numeric class label of the words within the size of the skip-gram window. Now\n",
    "\n",
    "* Compile a list of all words in the development section of your corpus and save it in a variable ```V```."
   ]
  },
  {
   "cell_type": "code",
   "execution_count": null,
   "metadata": {
    "id": "VpoGmTKx-AOQ"
   },
   "outputs": [],
   "source": [
    "#TODO: implement!\n",
    "V = list(data.clean_text.str.split(expand=True).stack().value_counts().keys())"
   ]
  },
  {
   "cell_type": "markdown",
   "metadata": {
    "id": "WiaVglVNoENY"
   },
   "source": [
    "* Then, write a function ```word_to_one_hot``` that returns a one-hot encoding of an arbitrary word in the vocabulary. The size of the one-hot encoding should be ```len(v)```."
   ]
  },
  {
   "cell_type": "code",
   "execution_count": null,
   "metadata": {
    "id": "-nXuzKlLUNTU"
   },
   "outputs": [],
   "source": [
    "## vocabulary for mapping words to index\n",
    "word2index = {word:index for index,word in enumerate(V)}\n",
    "\n",
    "## vocabulary for mapping index to words\n",
    "index2word = {index:word for index,word in enumerate(V)}"
   ]
  },
  {
   "cell_type": "code",
   "execution_count": null,
   "metadata": {
    "id": "yqPNw6IT-AOQ"
   },
   "outputs": [],
   "source": [
    "#TODO: implement!\n",
    "def word_to_one_hot(word):\n",
    "  one_hot_encoding = [0]*len(V)\n",
    "  one_hot_encoding[word2index[word]] = 1.0\n",
    "  return one_hot_encoding\n"
   ]
  },
  {
   "cell_type": "markdown",
   "metadata": {
    "id": "gKD8zBlxVclh"
   },
   "source": [
    "## 1.4 Subsampling (0.5 points)\n",
    "\n",
    "The probability to keep a word in a context is given by:\n",
    "\n",
    "$P_{keep}(w_i) = \\Big(\\sqrt{\\frac{z(w_i)}{0.001}}+1\\Big) \\cdot \\frac{0.001}{z(w_i)}$\n",
    "\n",
    "Where $z(w_i)$ is the relative frequency of the word $w_i$ in the corpus. Now,\n",
    "* Calculate word frequencies\n",
    "* Define a function ```sampling_prob``` that takes a word (string) as input and returns the probabiliy to **keep** the word in a context."
   ]
  },
  {
   "cell_type": "code",
   "execution_count": null,
   "metadata": {
    "id": "Mj4sDOVMMr0b"
   },
   "outputs": [],
   "source": [
    "#TODO: implement!\n",
    "word_frequencies = dict(data.clean_text.str.split(expand=True).stack().value_counts())\n",
    "total_frequency = sum(word_frequencies.values())\n",
    "\n",
    "def sampling_prob(word):\n",
    "  relative_frequency = word_frequencies[word]/total_frequency\n",
    "  return (np.sqrt(relative_frequency / .001) + 1 ) * (.001/relative_frequency)"
   ]
  },
  {
   "cell_type": "markdown",
   "metadata": {
    "id": "kxV1P90zplxu"
   },
   "source": [
    "# 1.5 Skip-Grams (1 point)\n",
    "\n",
    "Now that you have the vocabulary and one-hot encodings at hand, you can start to do the actual work. The skip gram model requires training data of the shape ```(current_word, context)```, with ```context``` being the words before and/or after ```current_word``` within ```window_size```. \n",
    "\n",
    "* Have closer look on the original paper. If you feel to understand how skip-gram works, implement a function ```get_target_context``` that takes a sentence as input and [yield](https://docs.python.org/3.9/reference/simple_stmts.html#the-yield-statement)s a ```(current_word, context)```.\n",
    "\n",
    "* Use your ```sampling_prob``` function to drop words from contexts as you sample them. "
   ]
  },
  {
   "cell_type": "code",
   "execution_count": null,
   "metadata": {
    "id": "r8CCTpVy-AOR"
   },
   "outputs": [],
   "source": [
    "#TODO: implement!\n",
    "def get_target_context(sentence, window_size):\n",
    "  tokens = sentence.split()\n",
    "  for current_word_index, current_word in enumerate(tokens):\n",
    "    context = []\n",
    "    for context_word_index in range(current_word_index-window_size, current_word_index + window_size + 1):\n",
    "      ## check wthether context word index is within sequence and is not the current word itself.\n",
    "      if current_word_index != context_word_index and context_word_index <= len(tokens) -1 and context_word_index >=0:\n",
    "        \n",
    "        # increase sampling chances of infrequent words in context\n",
    "        if np.random.random() < sampling_prob(tokens[context_word_index]):\n",
    "          context.append(tokens[context_word_index])\n",
    "\n",
    "    yield (current_word, context)\n"
   ]
  },
  {
   "cell_type": "code",
   "execution_count": null,
   "metadata": {
    "colab": {
     "base_uri": "https://localhost:8080/",
     "height": 52
    },
    "id": "8mxM-onhda_D",
    "outputId": "60a95ec8-6363-405c-8164-36a84787203c"
   },
   "outputs": [
    {
     "data": {
      "application/vnd.google.colaboratory.intrinsic+json": {
       "type": "string"
      },
      "text/plain": [
       "'[(current_word, context) for (current_word, context) in \\n        get_target_context(data.clean_text.values[4643], window_size=1)]'"
      ]
     },
     "execution_count": 59,
     "metadata": {
      "tags": []
     },
     "output_type": "execute_result"
    }
   ],
   "source": [
    "\n",
    "\"\"\"[(current_word, context) for (current_word, context) in \n",
    "        get_target_context(data.clean_text.values[4643], window_size=1)]\"\"\""
   ]
  },
  {
   "cell_type": "markdown",
   "metadata": {
    "id": "F3oq2DLU9ntY"
   },
   "source": [
    "## 1.5a HOSAC Dataloader"
   ]
  },
  {
   "cell_type": "code",
   "execution_count": null,
   "metadata": {
    "id": "fS3TeHCZABZR"
   },
   "outputs": [],
   "source": [
    "class HOSACDataset:\n",
    "    # A custom dataset class for holding data for word2vec embeddings (using skip-gram)\n",
    "    def __init__(self, data, window_size, batch_size=32):\n",
    "        \"\"\"\n",
    "        add docs here....\n",
    "        \"\"\"\n",
    "        self.data = data\n",
    "        self.window_size = window_size\n",
    "        self.batch_size = batch_size\n",
    "\n",
    "    def load_data(self):\n",
    "          for i in tqdm(range(len(self.data.clean_text.values))):\n",
    "            self.transform_data(i)\n",
    "\n",
    "\n",
    "        \n",
    "    def transform_data(self, index):\n",
    "\n",
    "      X, Y = [], []\n",
    "\n",
    "      ## get the text sequence from dataframe\n",
    "      sentence = self.data.clean_text.values[index]\n",
    "\n",
    "       ## fetch context words within the context window\n",
    "      for current_word, context in get_target_context(sentence, window_size=self.window_size):\n",
    "        current_word_onehot = word_to_one_hot(current_word)\n",
    "\n",
    "    ## iterate over context list and one hot encode them and align them with input\n",
    "        for context_word in context:\n",
    "          context_word_onehot = word2index[context_word]\n",
    "\n",
    "          X.append(current_word_onehot)\n",
    "          Y.append(context_word_onehot)\n",
    "\n",
    "      ## casting the lists to tensors, as forward pass expects float tensor and loss function expects long tensor\n",
    "      self.inputs, self.labels = torch.FloatTensor(X), torch.LongTensor(Y)\n",
    "    \n",
    "\n",
    "    def batchify(self):\n",
    "      index = 0\n",
    "      for index in range(0, len(self.inputs), self.batch_size):\n",
    "        yield (self.inputs[index:index+self.batch_size], self.labels[index:index+self.batch_size])\n",
    "   \n",
    "\n",
    "    "
   ]
  },
  {
   "cell_type": "markdown",
   "metadata": {
    "id": "gfEFgtkmuDjL"
   },
   "source": [
    "# 1.6 Hyperparameters (0.5 points)\n",
    "\n",
    "According to the word2vec paper, what would be a good choice for the following hyperparameters? \n",
    "\n",
    "* Embedding dimension\n",
    "* Window size\n",
    "\n",
    "Initialize them in a dictionary or as independent variables in the code block below. "
   ]
  },
  {
   "cell_type": "code",
   "execution_count": null,
   "metadata": {
    "id": "d7xSKuFJcYoD"
   },
   "outputs": [],
   "source": [
    "# Set hyperparameters\n",
    "window_size = 5\n",
    "embedding_size = 300\n",
    "input_size = len(V)\n",
    "batch_size = 32\n",
    "\n",
    "# More hyperparameters\n",
    "learning_rate = 0.05\n",
    "epochs = 500"
   ]
  },
  {
   "cell_type": "code",
   "execution_count": null,
   "metadata": {
    "colab": {
     "base_uri": "https://localhost:8080/"
    },
    "id": "xBWBAZHrEruy",
    "outputId": "c69aea23-32fa-4182-b839-318126297e0f"
   },
   "outputs": [
    {
     "name": "stderr",
     "output_type": "stream",
     "text": [
      "  1%|          | 12/1000 [00:00<00:19, 49.90it/s]"
     ]
    },
    {
     "name": "stdout",
     "output_type": "stream",
     "text": [
      "loading and transforming data...\n"
     ]
    },
    {
     "name": "stderr",
     "output_type": "stream",
     "text": [
      "100%|██████████| 1000/1000 [00:26<00:00, 38.08it/s]\n"
     ]
    }
   ],
   "source": [
    "## instantiate HOSAC dataset \n",
    "## window size changes over here\n",
    "print('loading and transforming data...')\n",
    "hosac_dataset = HOSACDataset(data, window_size, batch_size=batch_size)\n",
    "hosac_dataset.load_data()"
   ]
  },
  {
   "cell_type": "markdown",
   "metadata": {
    "id": "xiM2zq-YunPx"
   },
   "source": [
    "# 1.7 Pytorch Module (0.5 + 0.5 + 0.5 points)\n",
    "\n",
    "Pytorch provides a wrapper for your fancy and super-complex models: [torch.nn.Module](https://pytorch.org/docs/stable/generated/torch.nn.Module.html). The code block below contains a skeleton for such a wrapper. Now,\n",
    "\n",
    "* Initialize the two weight matrices of word2vec as fields of the class.\n",
    "\n",
    "* Override the ```forward``` method of this class. It should take a one-hot encoding as input, perform the matrix multiplications, and finally apply a log softmax on the output layer.\n",
    "\n",
    "* Initialize the model and save its weights in a variable. The Pytorch documentation will tell you how to do that."
   ]
  },
  {
   "cell_type": "code",
   "execution_count": 68,
   "metadata": {
    "id": "D9sGNytYhwxS"
   },
   "outputs": [],
   "source": [
    "# Create model \n",
    "\n",
    "class Word2Vec(nn.Module):\n",
    "  def __init__(self, input_size, hidden_size):\n",
    "    super().__init__()\n",
    "    self.layer1 = nn.Linear(in_features=input_size, out_features=hidden_size, bias=False)\n",
    "    self.layer2 = nn.Linear(in_features=hidden_size, out_features=input_size, bias=False)\n",
    "    #self.log_softmax = nn.LogSoftmax(dim=0)\n",
    "\n",
    "  def forward(self, one_hot):\n",
    "    x = self.layer1(one_hot)\n",
    "    x = self.layer2(x)\n",
    "    ## omitted logsoftmax since we use CrossEntropyLoss which has implicit NLL + Logsoftmax\n",
    "    #y = self.log_softmax(x)\n",
    "    return x\n",
    "\n",
    "def init_weights(m):\n",
    "  if type(m) == nn.Linear:\n",
    "    nn.init.normal_(m.weight)\n",
    "\n",
    "device = torch.device('cuda' if torch.cuda.is_available() else 'cpu')"
   ]
  },
  {
   "cell_type": "markdown",
   "metadata": {
    "id": "XefIDMMHv5zJ"
   },
   "source": [
    "# 1.8 Loss function and optimizer (0.5 points)\n",
    "\n",
    "Initialize variables with [optimizer](https://pytorch.org/docs/stable/optim.html#module-torch.optim) and loss function. You can take what is used in the word2vec paper, but you can use alternative optimizers/loss functions if you explain your choice in the report."
   ]
  },
  {
   "cell_type": "code",
   "execution_count": 69,
   "metadata": {
    "id": "V9-Ino-e29w3"
   },
   "outputs": [],
   "source": [
    "# Define optimizer and loss\n",
    "word2vec_model = Word2Vec(input_size=input_size, hidden_size=embedding_size) \n",
    "is_untrained = True\n",
    "\n",
    "if is_untrained:\n",
    "  word2vec_model.apply(init_weights)\n",
    "else:\n",
    "  word2vec_model.load_state_dict(torch.load('/content/word2vec_ws10.pth'.format(window_size)))\n",
    "\n",
    "word2vec_model = word2vec_model.to(device)\n",
    "word2vec_model.train(True)\n",
    "\n",
    "optimizer = torch.optim.Adam(word2vec_model.parameters(), lr=learning_rate)\n",
    "#criterion = nn.NLLLoss()\n",
    "\n",
    "criterion = nn.CrossEntropyLoss()"
   ]
  },
  {
   "cell_type": "markdown",
   "metadata": {
    "id": "ckTfK78Ew8wI"
   },
   "source": [
    "# 1.9 Training the model (3 points)\n",
    "\n",
    "As everything is prepared, implement a training loop that performs several passes of the data set through the model. You are free to do this as you please, but your code should:\n",
    "\n",
    "* Load the weights saved in 1.6 at the start of every execution of the code block\n",
    "* Print the accumulated loss at least after every epoch (the accumulate loss should be reset after every epoch)\n",
    "* Define a criterion for the training procedure to terminate if a certain loss value is reached. You can find the threshold by observing the loss for the development set.\n",
    "\n",
    "You can play around with the number of epochs and the learning rate."
   ]
  },
  {
   "cell_type": "code",
   "execution_count": 70,
   "metadata": {
    "colab": {
     "base_uri": "https://localhost:8080/"
    },
    "id": "LbMGD5L0mLDx",
    "outputId": "3dcb592a-18a2-4880-909f-5bc4a1a0ad47"
   },
   "outputs": [
    {
     "name": "stdout",
     "output_type": "stream",
     "text": [
      "Training started for lr 0.05\n",
      "new model saved with epoch loss 64.49352863856724\n",
      "Epoch [1/500], Loss: 64.4935\n",
      "new model saved with epoch loss 32.67517607552664\n",
      "Epoch [2/500], Loss: 32.6752\n",
      "new model saved with epoch loss 20.72067928314209\n",
      "Epoch [3/500], Loss: 20.7207\n",
      "Epoch [4/500], Loss: 20.7969\n",
      "Epoch [5/500], Loss: 22.1497\n",
      "Epoch [6/500], Loss: 24.6651\n",
      "Epoch [7/500], Loss: 26.7806\n",
      "Epoch [8/500], Loss: 26.0376\n",
      "Epoch [9/500], Loss: 25.9239\n",
      "Epoch [10/500], Loss: 24.3989\n",
      "Epoch [11/500], Loss: 22.9670\n",
      "Epoch [12/500], Loss: 21.2584\n",
      "new model saved with epoch loss 19.657137870788574\n",
      "Epoch [13/500], Loss: 19.6571\n",
      "Epoch [14/500], Loss: 20.6576\n",
      "new model saved with epoch loss 18.904375076293945\n",
      "Epoch [15/500], Loss: 18.9044\n",
      "Epoch [16/500], Loss: 19.9128\n",
      "new model saved with epoch loss 18.64438383919852\n",
      "Epoch [17/500], Loss: 18.6444\n",
      "new model saved with epoch loss 17.24529184613909\n",
      "Epoch [18/500], Loss: 17.2453\n",
      "Epoch [19/500], Loss: 17.9939\n",
      "Epoch [20/500], Loss: 17.7212\n",
      "Epoch [21/500], Loss: 17.8981\n",
      "new model saved with epoch loss 16.801889419555664\n",
      "Epoch [22/500], Loss: 16.8019\n",
      "Epoch [23/500], Loss: 17.1000\n",
      "Epoch [24/500], Loss: 17.1343\n",
      "Epoch [25/500], Loss: 16.9375\n",
      "new model saved with epoch loss 16.546741485595703\n",
      "Epoch [26/500], Loss: 16.5467\n",
      "new model saved with epoch loss 16.43541921888079\n",
      "Epoch [27/500], Loss: 16.4354\n",
      "new model saved with epoch loss 15.961636407034737\n",
      "Epoch [28/500], Loss: 15.9616\n",
      "Epoch [29/500], Loss: 16.1806\n",
      "Epoch [30/500], Loss: 17.0343\n",
      "Epoch [31/500], Loss: 16.7427\n",
      "new model saved with epoch loss 14.875629016331263\n",
      "Epoch [32/500], Loss: 14.8756\n",
      "new model saved with epoch loss 14.180470057896205\n",
      "Epoch [33/500], Loss: 14.1805\n",
      "new model saved with epoch loss 13.535941532679967\n",
      "Epoch [34/500], Loss: 13.5359\n",
      "new model saved with epoch loss 13.058717591421944\n",
      "Epoch [35/500], Loss: 13.0587\n",
      "Epoch [36/500], Loss: 13.7147\n",
      "Epoch [37/500], Loss: 13.1566\n",
      "Epoch [38/500], Loss: 13.2547\n",
      "Epoch [39/500], Loss: 13.8579\n",
      "new model saved with epoch loss 12.145095416477748\n",
      "Epoch [40/500], Loss: 12.1451\n",
      "new model saved with epoch loss 11.353957789284843\n",
      "Epoch [41/500], Loss: 11.3540\n",
      "new model saved with epoch loss 11.041357449122838\n",
      "Epoch [42/500], Loss: 11.0414\n",
      "Epoch [43/500], Loss: 11.0441\n",
      "Epoch [44/500], Loss: 11.1279\n",
      "new model saved with epoch loss 10.786600589752197\n",
      "Epoch [45/500], Loss: 10.7866\n",
      "Epoch [46/500], Loss: 11.2349\n",
      "new model saved with epoch loss 10.697063309805733\n",
      "Epoch [47/500], Loss: 10.6971\n",
      "new model saved with epoch loss 10.471428394317627\n",
      "Epoch [48/500], Loss: 10.4714\n",
      "new model saved with epoch loss 10.386732578277588\n",
      "Epoch [49/500], Loss: 10.3867\n",
      "new model saved with epoch loss 10.304731164659772\n",
      "Epoch [50/500], Loss: 10.3047\n",
      "new model saved with epoch loss 10.2548520224435\n",
      "Epoch [51/500], Loss: 10.2549\n",
      "new model saved with epoch loss 9.946874822889056\n",
      "Epoch [52/500], Loss: 9.9469\n",
      "Epoch [53/500], Loss: 10.1587\n",
      "new model saved with epoch loss 9.924407822745186\n",
      "Epoch [54/500], Loss: 9.9244\n",
      "new model saved with epoch loss 9.233289650508336\n",
      "Epoch [55/500], Loss: 9.2333\n",
      "new model saved with epoch loss 9.106820106506348\n",
      "Epoch [56/500], Loss: 9.1068\n",
      "new model saved with epoch loss 8.758727278028216\n",
      "Epoch [57/500], Loss: 8.7587\n",
      "Epoch [58/500], Loss: 9.0074\n",
      "Epoch [59/500], Loss: 8.9083\n",
      "new model saved with epoch loss 8.413254397256035\n",
      "Epoch [60/500], Loss: 8.4133\n",
      "new model saved with epoch loss 8.102863584245954\n",
      "Epoch [61/500], Loss: 8.1029\n",
      "new model saved with epoch loss 7.817704950060163\n",
      "Epoch [62/500], Loss: 7.8177\n",
      "Epoch [63/500], Loss: 8.0186\n",
      "Epoch [64/500], Loss: 8.0034\n",
      "new model saved with epoch loss 7.471031870160784\n",
      "Epoch [65/500], Loss: 7.4710\n",
      "Epoch [66/500], Loss: 7.6676\n",
      "Epoch [67/500], Loss: 7.6806\n",
      "new model saved with epoch loss 7.381834983825684\n",
      "Epoch [68/500], Loss: 7.3818\n",
      "Epoch [69/500], Loss: 7.6410\n",
      "Epoch [70/500], Loss: 7.4803\n",
      "Epoch [71/500], Loss: 7.4165\n",
      "new model saved with epoch loss 7.1305342401777\n",
      "Epoch [72/500], Loss: 7.1305\n",
      "new model saved with epoch loss 6.9824700355529785\n",
      "Epoch [73/500], Loss: 6.9825\n",
      "new model saved with epoch loss 6.6367853709629605\n",
      "Epoch [74/500], Loss: 6.6368\n",
      "new model saved with epoch loss 6.053992339542934\n",
      "Epoch [75/500], Loss: 6.0540\n",
      "new model saved with epoch loss 5.591755594526019\n",
      "Epoch [76/500], Loss: 5.5918\n",
      "new model saved with epoch loss 5.4911331449236185\n",
      "Epoch [77/500], Loss: 5.4911\n",
      "new model saved with epoch loss 5.210589681352888\n",
      "Epoch [78/500], Loss: 5.2106\n",
      "Epoch [79/500], Loss: 5.2829\n",
      "new model saved with epoch loss 5.117197717939105\n",
      "Epoch [80/500], Loss: 5.1172\n",
      "new model saved with epoch loss 4.9388030256543844\n",
      "Epoch [81/500], Loss: 4.9388\n",
      "new model saved with epoch loss 4.806955439703805\n",
      "Epoch [82/500], Loss: 4.8070\n",
      "new model saved with epoch loss 4.712600026811872\n",
      "Epoch [83/500], Loss: 4.7126\n",
      "new model saved with epoch loss 4.581100736345563\n",
      "Epoch [84/500], Loss: 4.5811\n",
      "new model saved with epoch loss 4.480448348181588\n",
      "Epoch [85/500], Loss: 4.4804\n",
      "Epoch [86/500], Loss: 4.6396\n",
      "Epoch [87/500], Loss: 4.5546\n",
      "new model saved with epoch loss 4.268827983311245\n",
      "Epoch [88/500], Loss: 4.2688\n",
      "new model saved with epoch loss 4.243541990007673\n",
      "Epoch [89/500], Loss: 4.2435\n",
      "new model saved with epoch loss 4.236860479627337\n",
      "Epoch [90/500], Loss: 4.2369\n",
      "new model saved with epoch loss 4.221546275275094\n",
      "Epoch [91/500], Loss: 4.2215\n",
      "new model saved with epoch loss 4.217308861868722\n",
      "Epoch [92/500], Loss: 4.2173\n",
      "new model saved with epoch loss 3.9770147800445557\n",
      "Epoch [93/500], Loss: 3.9770\n",
      "new model saved with epoch loss 3.8993148463112965\n",
      "Epoch [94/500], Loss: 3.8993\n",
      "Epoch [95/500], Loss: 3.9456\n",
      "new model saved with epoch loss 3.8434479917798723\n",
      "Epoch [96/500], Loss: 3.8434\n",
      "new model saved with epoch loss 3.792604071753366\n",
      "Epoch [97/500], Loss: 3.7926\n",
      "Epoch [98/500], Loss: 3.8266\n",
      "new model saved with epoch loss 3.7776709624699185\n",
      "Epoch [99/500], Loss: 3.7777\n",
      "Epoch [100/500], Loss: 3.8894\n",
      "new model saved with epoch loss 3.745387758527483\n",
      "Epoch [101/500], Loss: 3.7454\n",
      "new model saved with epoch loss 3.472425971712385\n",
      "Epoch [102/500], Loss: 3.4724\n",
      "new model saved with epoch loss 3.3348893438066756\n",
      "Epoch [103/500], Loss: 3.3349\n",
      "Epoch [104/500], Loss: 3.3640\n",
      "new model saved with epoch loss 3.2269705023084367\n",
      "Epoch [105/500], Loss: 3.2270\n",
      "new model saved with epoch loss 3.2113979203360423\n",
      "Epoch [106/500], Loss: 3.2114\n",
      "new model saved with epoch loss 3.098667894090925\n",
      "Epoch [107/500], Loss: 3.0987\n",
      "new model saved with epoch loss 2.977978672300066\n",
      "Epoch [108/500], Loss: 2.9780\n",
      "new model saved with epoch loss 2.956735168184553\n",
      "Epoch [109/500], Loss: 2.9567\n",
      "new model saved with epoch loss 2.951380048479353\n",
      "Epoch [110/500], Loss: 2.9514\n",
      "new model saved with epoch loss 2.950839110783168\n",
      "Epoch [111/500], Loss: 2.9508\n",
      "Epoch [112/500], Loss: 2.9555\n",
      "new model saved with epoch loss 2.9333558763776506\n",
      "Epoch [113/500], Loss: 2.9334\n",
      "Epoch [114/500], Loss: 2.9786\n",
      "new model saved with epoch loss 2.9256275040762767\n",
      "Epoch [115/500], Loss: 2.9256\n",
      "Epoch [116/500], Loss: 2.9769\n",
      "Epoch [117/500], Loss: 3.0074\n",
      "Epoch [118/500], Loss: 2.9271\n",
      "Epoch [119/500], Loss: 3.0316\n",
      "Epoch [120/500], Loss: 2.9471\n",
      "Epoch [121/500], Loss: 2.9303\n",
      "Epoch [122/500], Loss: 2.9278\n",
      "Epoch [123/500], Loss: 3.0093\n",
      "Epoch [124/500], Loss: 2.9833\n",
      "Epoch [125/500], Loss: 2.9562\n",
      "new model saved with epoch loss 2.836331401552473\n",
      "Epoch [126/500], Loss: 2.8363\n",
      "new model saved with epoch loss 2.730598143168858\n",
      "Epoch [127/500], Loss: 2.7306\n",
      "Epoch [128/500], Loss: 2.7876\n",
      "Epoch [129/500], Loss: 2.8140\n",
      "Epoch [130/500], Loss: 2.8787\n",
      "Epoch [131/500], Loss: 2.8290\n",
      "Epoch [132/500], Loss: 2.8346\n",
      "Epoch [133/500], Loss: 2.9107\n",
      "Epoch [134/500], Loss: 2.9342\n",
      "Epoch [135/500], Loss: 2.9342\n",
      "Epoch [136/500], Loss: 2.8623\n",
      "Epoch [137/500], Loss: 2.9352\n",
      "Epoch [138/500], Loss: 2.8787\n",
      "Epoch [139/500], Loss: 2.9427\n",
      "Epoch [140/500], Loss: 2.8937\n",
      "Epoch [141/500], Loss: 2.8916\n",
      "Epoch [142/500], Loss: 2.9318\n",
      "Epoch [143/500], Loss: 2.9530\n",
      "Epoch [144/500], Loss: 2.9202\n",
      "Epoch [145/500], Loss: 2.8857\n",
      "Epoch [146/500], Loss: 2.8177\n",
      "Epoch [147/500], Loss: 2.7869\n",
      "Epoch [148/500], Loss: 2.8259\n",
      "Epoch [149/500], Loss: 2.8146\n",
      "Epoch [150/500], Loss: 2.7357\n",
      "Epoch [151/500], Loss: 2.7999\n",
      "Epoch [152/500], Loss: 2.8358\n",
      "Epoch [153/500], Loss: 2.8612\n",
      "Epoch [154/500], Loss: 2.7600\n",
      "Epoch [155/500], Loss: 2.7559\n",
      "Epoch [156/500], Loss: 2.8203\n",
      "Epoch [157/500], Loss: 2.8266\n",
      "Epoch [158/500], Loss: 2.7366\n",
      "new model saved with epoch loss 2.653590645108904\n",
      "Epoch [159/500], Loss: 2.6536\n",
      "Epoch [160/500], Loss: 2.7225\n",
      "Epoch [161/500], Loss: 2.7519\n",
      "Epoch [162/500], Loss: 2.7164\n",
      "new model saved with epoch loss 2.6429101739610945\n",
      "Epoch [163/500], Loss: 2.6429\n",
      "new model saved with epoch loss 2.621159928185599\n",
      "Epoch [164/500], Loss: 2.6212\n",
      "Epoch [165/500], Loss: 2.6409\n",
      "Epoch [166/500], Loss: 2.6268\n",
      "new model saved with epoch loss 2.609806912285941\n",
      "Epoch [167/500], Loss: 2.6098\n",
      "new model saved with epoch loss 2.576879756791251\n",
      "Epoch [168/500], Loss: 2.5769\n",
      "Epoch [169/500], Loss: 2.6196\n",
      "Epoch [170/500], Loss: 2.6629\n",
      "Epoch [171/500], Loss: 2.7116\n",
      "Epoch [172/500], Loss: 2.7217\n",
      "Epoch [173/500], Loss: 2.7511\n",
      "Epoch [174/500], Loss: 2.7246\n",
      "Epoch [175/500], Loss: 2.7746\n",
      "Epoch [176/500], Loss: 2.7433\n",
      "Epoch [177/500], Loss: 2.7736\n",
      "Epoch [178/500], Loss: 2.8524\n",
      "Epoch [179/500], Loss: 2.8346\n",
      "Epoch [180/500], Loss: 2.7837\n",
      "Epoch [181/500], Loss: 2.7210\n",
      "Epoch [182/500], Loss: 2.7956\n",
      "Epoch [183/500], Loss: 2.8561\n",
      "Epoch [184/500], Loss: 2.9038\n",
      "Epoch [185/500], Loss: 2.8211\n",
      "Epoch [186/500], Loss: 2.8444\n",
      "Epoch [187/500], Loss: 2.7714\n",
      "Epoch [188/500], Loss: 2.8514\n",
      "Epoch [189/500], Loss: 2.8913\n",
      "Epoch [190/500], Loss: 2.8695\n",
      "Epoch [191/500], Loss: 2.7303\n",
      "Epoch [192/500], Loss: 2.7741\n",
      "Epoch [193/500], Loss: 2.8504\n",
      "Epoch [194/500], Loss: 2.8413\n",
      "Epoch [195/500], Loss: 2.7646\n",
      "Epoch [196/500], Loss: 2.7036\n",
      "Epoch [197/500], Loss: 2.7250\n",
      "Epoch [198/500], Loss: 2.6891\n",
      "Epoch [199/500], Loss: 2.5976\n",
      "Epoch [200/500], Loss: 2.6170\n",
      "Epoch [201/500], Loss: 2.5795\n",
      "Epoch [202/500], Loss: 2.6049\n",
      "Epoch [203/500], Loss: 2.6287\n",
      "Epoch [204/500], Loss: 2.6173\n",
      "Epoch [205/500], Loss: 2.6109\n",
      "Epoch [206/500], Loss: 2.6057\n",
      "new model saved with epoch loss 2.5710437979016985\n",
      "Epoch [207/500], Loss: 2.5710\n",
      "Epoch [208/500], Loss: 2.6046\n",
      "Epoch [209/500], Loss: 2.5862\n",
      "Epoch [210/500], Loss: 2.5955\n",
      "new model saved with epoch loss 2.5550104890550887\n",
      "Epoch [211/500], Loss: 2.5550\n",
      "Epoch [212/500], Loss: 2.5773\n",
      "new model saved with epoch loss 2.525907346180507\n",
      "Epoch [213/500], Loss: 2.5259\n",
      "new model saved with epoch loss 2.5008197341646468\n",
      "Epoch [214/500], Loss: 2.5008\n",
      "new model saved with epoch loss 2.4891953468322754\n",
      "Epoch [215/500], Loss: 2.4892\n",
      "Epoch [216/500], Loss: 2.5048\n",
      "Epoch [217/500], Loss: 2.4897\n",
      "Epoch [218/500], Loss: 2.5057\n",
      "Epoch [219/500], Loss: 2.5051\n",
      "new model saved with epoch loss 2.4809465067727223\n",
      "Epoch [220/500], Loss: 2.4809\n",
      "Epoch [221/500], Loss: 2.4872\n",
      "new model saved with epoch loss 2.4684669971466064\n",
      "Epoch [222/500], Loss: 2.4685\n",
      "new model saved with epoch loss 2.4461127689906528\n",
      "Epoch [223/500], Loss: 2.4461\n",
      "new model saved with epoch loss 2.4172250713620866\n",
      "Epoch [224/500], Loss: 2.4172\n",
      "Epoch [225/500], Loss: 2.4354\n",
      "Epoch [226/500], Loss: 2.4527\n",
      "Epoch [227/500], Loss: 2.4227\n",
      "Epoch [228/500], Loss: 2.4180\n",
      "Epoch [229/500], Loss: 2.4234\n",
      "new model saved with epoch loss 2.409691163471767\n",
      "Epoch [230/500], Loss: 2.4097\n",
      "new model saved with epoch loss 2.398644004549299\n",
      "Epoch [231/500], Loss: 2.3986\n",
      "new model saved with epoch loss 2.3922633273260936\n",
      "Epoch [232/500], Loss: 2.3923\n",
      "Epoch [233/500], Loss: 2.3982\n",
      "Epoch [234/500], Loss: 2.4053\n",
      "Epoch [235/500], Loss: 2.4147\n",
      "Epoch [236/500], Loss: 2.4175\n",
      "Epoch [237/500], Loss: 2.4250\n",
      "Epoch [238/500], Loss: 2.4121\n",
      "Epoch [239/500], Loss: 2.4318\n",
      "Epoch [240/500], Loss: 2.4600\n",
      "Epoch [241/500], Loss: 2.4833\n",
      "Epoch [242/500], Loss: 2.4912\n",
      "Epoch [243/500], Loss: 2.4864\n",
      "Epoch [244/500], Loss: 2.4936\n",
      "Epoch [245/500], Loss: 2.5119\n",
      "Epoch [246/500], Loss: 2.4963\n",
      "Epoch [247/500], Loss: 2.5127\n",
      "Epoch [248/500], Loss: 2.5524\n",
      "Epoch [249/500], Loss: 2.5969\n",
      "Epoch [250/500], Loss: 2.6078\n",
      "Epoch [251/500], Loss: 2.5784\n",
      "Epoch [252/500], Loss: 2.5192\n",
      "Epoch [253/500], Loss: 2.5138\n",
      "Epoch [254/500], Loss: 2.4899\n",
      "Epoch [255/500], Loss: 2.4981\n",
      "Epoch [256/500], Loss: 2.4776\n",
      "Epoch [257/500], Loss: 2.4360\n",
      "Epoch [258/500], Loss: 2.4345\n",
      "Epoch [259/500], Loss: 2.4258\n",
      "Epoch [260/500], Loss: 2.4394\n",
      "Epoch [261/500], Loss: 2.4416\n",
      "Epoch [262/500], Loss: 2.4378\n",
      "Epoch [263/500], Loss: 2.4389\n",
      "Epoch [264/500], Loss: 2.4169\n",
      "Epoch [265/500], Loss: 2.3987\n",
      "Epoch [266/500], Loss: 2.4097\n",
      "new model saved with epoch loss 2.3874586480004445\n",
      "Epoch [267/500], Loss: 2.3875\n",
      "Epoch [268/500], Loss: 2.3936\n",
      "Epoch [269/500], Loss: 2.3981\n",
      "Epoch [270/500], Loss: 2.4042\n",
      "Epoch [271/500], Loss: 2.3877\n",
      "new model saved with epoch loss 2.3849694558552335\n",
      "Epoch [272/500], Loss: 2.3850\n",
      "Epoch [273/500], Loss: 2.4003\n",
      "Epoch [274/500], Loss: 2.4131\n",
      "Epoch [275/500], Loss: 2.4049\n",
      "Epoch [276/500], Loss: 2.3949\n",
      "Epoch [277/500], Loss: 2.4152\n",
      "Epoch [278/500], Loss: 2.4389\n",
      "Epoch [279/500], Loss: 2.4623\n",
      "Epoch [280/500], Loss: 2.4496\n",
      "Epoch [281/500], Loss: 2.4422\n",
      "Epoch [282/500], Loss: 2.4206\n",
      "Epoch [283/500], Loss: 2.4484\n",
      "Epoch [284/500], Loss: 2.4548\n",
      "Epoch [285/500], Loss: 2.4588\n",
      "Epoch [286/500], Loss: 2.4404\n",
      "Epoch [287/500], Loss: 2.4418\n",
      "Epoch [288/500], Loss: 2.4110\n",
      "Epoch [289/500], Loss: 2.3950\n",
      "Epoch [290/500], Loss: 2.3894\n",
      "Epoch [291/500], Loss: 2.3883\n",
      "Epoch [292/500], Loss: 2.3904\n",
      "new model saved with epoch loss 2.3747454370771135\n",
      "Epoch [293/500], Loss: 2.3747\n",
      "Epoch [294/500], Loss: 2.3761\n",
      "Epoch [295/500], Loss: 2.3892\n",
      "Epoch [296/500], Loss: 2.3818\n",
      "Epoch [297/500], Loss: 2.3952\n",
      "Epoch [298/500], Loss: 2.3970\n",
      "Epoch [299/500], Loss: 2.4074\n",
      "Epoch [300/500], Loss: 2.4086\n",
      "Epoch [301/500], Loss: 2.4041\n",
      "Epoch [302/500], Loss: 2.4270\n",
      "Epoch [303/500], Loss: 2.4122\n",
      "Epoch [304/500], Loss: 2.4442\n",
      "Epoch [305/500], Loss: 2.4323\n",
      "Epoch [306/500], Loss: 2.4171\n",
      "Epoch [307/500], Loss: 2.4051\n",
      "Epoch [308/500], Loss: 2.3827\n",
      "Epoch [309/500], Loss: 2.4044\n",
      "Epoch [310/500], Loss: 2.3995\n",
      "Epoch [311/500], Loss: 2.4075\n",
      "Epoch [312/500], Loss: 2.3888\n",
      "Epoch [313/500], Loss: 2.3878\n",
      "Epoch [314/500], Loss: 2.3913\n",
      "Epoch [315/500], Loss: 2.3803\n",
      "Epoch [316/500], Loss: 2.3796\n",
      "Epoch [317/500], Loss: 2.3774\n",
      "Epoch [318/500], Loss: 2.3805\n",
      "new model saved with epoch loss 2.370907187461853\n",
      "Epoch [319/500], Loss: 2.3709\n",
      "new model saved with epoch loss 2.3668778283255443\n",
      "Epoch [320/500], Loss: 2.3669\n",
      "Epoch [321/500], Loss: 2.3759\n",
      "Epoch [322/500], Loss: 2.3934\n",
      "Epoch [323/500], Loss: 2.3961\n",
      "Epoch [324/500], Loss: 2.3904\n",
      "Epoch [325/500], Loss: 2.3684\n",
      "Epoch [326/500], Loss: 2.3673\n",
      "new model saved with epoch loss 2.3617848328181674\n",
      "Epoch [327/500], Loss: 2.3618\n",
      "new model saved with epoch loss 2.358628647668021\n",
      "Epoch [328/500], Loss: 2.3586\n",
      "new model saved with epoch loss 2.355057494980948\n",
      "Epoch [329/500], Loss: 2.3551\n",
      "new model saved with epoch loss 2.354078565325056\n",
      "Epoch [330/500], Loss: 2.3541\n",
      "Epoch [331/500], Loss: 2.3572\n",
      "Epoch [332/500], Loss: 2.3562\n",
      "Epoch [333/500], Loss: 2.3598\n",
      "Epoch [334/500], Loss: 2.3638\n",
      "Epoch [335/500], Loss: 2.3633\n",
      "Epoch [336/500], Loss: 2.3591\n",
      "Epoch [337/500], Loss: 2.3591\n",
      "Epoch [338/500], Loss: 2.3567\n",
      "Epoch [339/500], Loss: 2.3576\n",
      "Epoch [340/500], Loss: 2.3566\n",
      "Epoch [341/500], Loss: 2.3574\n",
      "Epoch [342/500], Loss: 2.3590\n",
      "Epoch [343/500], Loss: 2.3563\n",
      "Epoch [344/500], Loss: 2.3567\n",
      "Epoch [345/500], Loss: 2.3582\n",
      "Epoch [346/500], Loss: 2.3644\n",
      "Epoch [347/500], Loss: 2.3607\n",
      "Epoch [348/500], Loss: 2.3709\n",
      "Epoch [349/500], Loss: 2.3712\n",
      "Epoch [350/500], Loss: 2.3749\n",
      "Epoch [351/500], Loss: 2.3812\n",
      "Epoch [352/500], Loss: 2.3857\n",
      "Epoch [353/500], Loss: 2.3790\n",
      "Epoch [354/500], Loss: 2.3734\n",
      "Epoch [355/500], Loss: 2.3625\n",
      "Epoch [356/500], Loss: 2.3790\n",
      "Epoch [357/500], Loss: 2.4008\n",
      "Epoch [358/500], Loss: 2.4189\n",
      "Epoch [359/500], Loss: 2.4258\n",
      "Epoch [360/500], Loss: 2.4035\n",
      "Epoch [361/500], Loss: 2.3680\n",
      "Epoch [362/500], Loss: 2.3865\n",
      "Epoch [363/500], Loss: 2.3985\n",
      "Epoch [364/500], Loss: 2.3985\n",
      "Epoch [365/500], Loss: 2.3972\n",
      "Epoch [366/500], Loss: 2.3893\n",
      "Epoch [367/500], Loss: 2.3946\n",
      "Epoch [368/500], Loss: 2.3922\n",
      "Epoch [369/500], Loss: 2.3833\n",
      "Epoch [370/500], Loss: 2.3705\n",
      "Epoch [371/500], Loss: 2.3631\n",
      "new model saved with epoch loss 2.349179744720459\n",
      "Epoch [372/500], Loss: 2.3492\n",
      "Epoch [373/500], Loss: 2.3526\n",
      "new model saved with epoch loss 2.3465850012642995\n",
      "Epoch [374/500], Loss: 2.3466\n",
      "Epoch [375/500], Loss: 2.3478\n",
      "new model saved with epoch loss 2.34429703439985\n",
      "Epoch [376/500], Loss: 2.3443\n",
      "Epoch [377/500], Loss: 2.3482\n",
      "Epoch [378/500], Loss: 2.3473\n",
      "Epoch [379/500], Loss: 2.3463\n",
      "Epoch [380/500], Loss: 2.3455\n",
      "Epoch [381/500], Loss: 2.3457\n",
      "Epoch [382/500], Loss: 2.3446\n",
      "new model saved with epoch loss 2.3437710659844533\n",
      "Epoch [383/500], Loss: 2.3438\n",
      "new model saved with epoch loss 2.342870354652405\n",
      "Epoch [384/500], Loss: 2.3429\n",
      "Epoch [385/500], Loss: 2.3440\n",
      "Epoch [386/500], Loss: 2.3453\n",
      "Epoch [387/500], Loss: 2.3442\n",
      "Epoch [388/500], Loss: 2.3436\n",
      "Epoch [389/500], Loss: 2.3464\n",
      "Epoch [390/500], Loss: 2.3457\n",
      "Epoch [391/500], Loss: 2.3465\n",
      "Epoch [392/500], Loss: 2.3462\n",
      "Epoch [393/500], Loss: 2.3494\n",
      "Epoch [394/500], Loss: 2.3471\n",
      "Epoch [395/500], Loss: 2.3465\n",
      "Epoch [396/500], Loss: 2.3455\n",
      "Epoch [397/500], Loss: 2.3496\n",
      "Epoch [398/500], Loss: 2.3454\n",
      "Epoch [399/500], Loss: 2.3466\n",
      "Epoch [400/500], Loss: 2.3501\n",
      "Epoch [401/500], Loss: 2.3470\n",
      "Epoch [402/500], Loss: 2.3443\n",
      "Epoch [403/500], Loss: 2.3477\n",
      "new model saved with epoch loss 2.3426836899348666\n",
      "Epoch [404/500], Loss: 2.3427\n",
      "Epoch [405/500], Loss: 2.3428\n",
      "new model saved with epoch loss 2.338684150150844\n",
      "Epoch [406/500], Loss: 2.3387\n",
      "new model saved with epoch loss 2.3347950833184377\n",
      "Epoch [407/500], Loss: 2.3348\n",
      "Epoch [408/500], Loss: 2.3359\n",
      "new model saved with epoch loss 2.333459939275469\n",
      "Epoch [409/500], Loss: 2.3335\n",
      "Epoch [410/500], Loss: 2.3386\n",
      "Epoch [411/500], Loss: 2.3376\n",
      "Epoch [412/500], Loss: 2.3444\n",
      "Epoch [413/500], Loss: 2.3417\n",
      "Epoch [414/500], Loss: 2.3490\n",
      "Epoch [415/500], Loss: 2.3461\n",
      "Epoch [416/500], Loss: 2.3518\n",
      "Epoch [417/500], Loss: 2.3500\n",
      "Epoch [418/500], Loss: 2.3517\n",
      "Epoch [419/500], Loss: 2.3489\n",
      "Epoch [420/500], Loss: 2.3458\n",
      "Epoch [421/500], Loss: 2.3437\n",
      "Epoch [422/500], Loss: 2.3436\n",
      "Epoch [423/500], Loss: 2.3411\n",
      "Epoch [424/500], Loss: 2.3407\n",
      "Epoch [425/500], Loss: 2.3380\n",
      "Epoch [426/500], Loss: 2.3395\n",
      "Epoch [427/500], Loss: 2.3388\n",
      "Epoch [428/500], Loss: 2.3392\n",
      "Epoch [429/500], Loss: 2.3408\n",
      "Epoch [430/500], Loss: 2.3414\n",
      "Epoch [431/500], Loss: 2.3409\n",
      "Epoch [432/500], Loss: 2.3411\n",
      "Epoch [433/500], Loss: 2.3410\n",
      "Epoch [434/500], Loss: 2.3421\n",
      "Epoch [435/500], Loss: 2.3418\n",
      "Epoch [436/500], Loss: 2.3414\n",
      "Epoch [437/500], Loss: 2.3488\n",
      "Epoch [438/500], Loss: 2.3377\n",
      "Epoch [439/500], Loss: 2.3378\n",
      "new model saved with epoch loss 2.3310342005320956\n",
      "Epoch [440/500], Loss: 2.3310\n",
      "new model saved with epoch loss 2.329839519092015\n",
      "Epoch [441/500], Loss: 2.3298\n",
      "new model saved with epoch loss 2.327375667435782\n",
      "Epoch [442/500], Loss: 2.3274\n",
      "Epoch [443/500], Loss: 2.3314\n",
      "Epoch [444/500], Loss: 2.3322\n",
      "Epoch [445/500], Loss: 2.3393\n",
      "Epoch [446/500], Loss: 2.3413\n",
      "Epoch [447/500], Loss: 2.3447\n",
      "Epoch [448/500], Loss: 2.3432\n",
      "Epoch [449/500], Loss: 2.3425\n",
      "Epoch [450/500], Loss: 2.3376\n",
      "Epoch [451/500], Loss: 2.3376\n",
      "Epoch [452/500], Loss: 2.3336\n",
      "Epoch [453/500], Loss: 2.3360\n",
      "Epoch [454/500], Loss: 2.3351\n",
      "Epoch [455/500], Loss: 2.3392\n",
      "Epoch [456/500], Loss: 2.3376\n",
      "Epoch [457/500], Loss: 2.3413\n",
      "Epoch [458/500], Loss: 2.3418\n",
      "Epoch [459/500], Loss: 2.3460\n",
      "Epoch [460/500], Loss: 2.3416\n",
      "Epoch [461/500], Loss: 2.3442\n",
      "Epoch [462/500], Loss: 2.3391\n",
      "Epoch [463/500], Loss: 2.3423\n",
      "Epoch [464/500], Loss: 2.3359\n",
      "Epoch [465/500], Loss: 2.3383\n",
      "Epoch [466/500], Loss: 2.3354\n",
      "Epoch [467/500], Loss: 2.3357\n",
      "Epoch [468/500], Loss: 2.3347\n",
      "Epoch [469/500], Loss: 2.3344\n",
      "Epoch [470/500], Loss: 2.3377\n",
      "Epoch [471/500], Loss: 2.3354\n",
      "Epoch [472/500], Loss: 2.3363\n",
      "Epoch [473/500], Loss: 2.3324\n",
      "Epoch [474/500], Loss: 2.3341\n",
      "Epoch [475/500], Loss: 2.3323\n",
      "Epoch [476/500], Loss: 2.3327\n",
      "Epoch [477/500], Loss: 2.3309\n",
      "Epoch [478/500], Loss: 2.3315\n",
      "Epoch [479/500], Loss: 2.3312\n",
      "Epoch [480/500], Loss: 2.3325\n",
      "Epoch [481/500], Loss: 2.3303\n",
      "Epoch [482/500], Loss: 2.3317\n",
      "Epoch [483/500], Loss: 2.3315\n",
      "Epoch [484/500], Loss: 2.3332\n",
      "Epoch [485/500], Loss: 2.3312\n",
      "Epoch [486/500], Loss: 2.3314\n",
      "Epoch [487/500], Loss: 2.3309\n",
      "Epoch [488/500], Loss: 2.3313\n",
      "Epoch [489/500], Loss: 2.3303\n",
      "Epoch [490/500], Loss: 2.3311\n",
      "Epoch [491/500], Loss: 2.3319\n",
      "Epoch [492/500], Loss: 2.3321\n",
      "Epoch [493/500], Loss: 2.3341\n",
      "Epoch [494/500], Loss: 2.3319\n",
      "Epoch [495/500], Loss: 2.3339\n",
      "Epoch [496/500], Loss: 2.3292\n",
      "Epoch [497/500], Loss: 2.3308\n",
      "Epoch [498/500], Loss: 2.3287\n",
      "Epoch [499/500], Loss: 2.3301\n",
      "Epoch [500/500], Loss: 2.3299\n",
      "Training finished\n"
     ]
    }
   ],
   "source": [
    "# Define train procedure\n",
    "\n",
    "def train():\n",
    "  min_loss = 1e3\n",
    "  print(\"Training started for lr {}\".format(learning_rate))\n",
    "   \n",
    "  for epoch in range(epochs):\n",
    "    loss_val = []\n",
    "    for (X,y) in hosac_dataset.batchify():\n",
    "        X= X.to(device)\n",
    "        y = y.to(device)\n",
    "\n",
    "        ## forward pass\n",
    "        output = word2vec_model(X)\n",
    "        loss = criterion(output, y)\n",
    "        ## backward and optimize\n",
    "        optimizer.zero_grad()\n",
    "        loss.backward()\n",
    "        optimizer.step()\n",
    "        loss_val.append(loss.item())\n",
    "    \n",
    "    if np.mean(loss_val) < min_loss:\n",
    "      min_loss = np.mean(loss_val)\n",
    "      print('new model saved with epoch loss {}'.format(min_loss))\n",
    "      torch.save(word2vec_model.state_dict(), '/content/models/word2vec_ws{}.pth'.format(window_size))\n",
    "\n",
    "    if (epoch+1) % 1 == 0:\n",
    "      print (f'Epoch [{epoch+1}/{epochs}], Loss: {np.mean(loss_val):.4f}')\n",
    "\n",
    "train()\n",
    "print(\"Training finished\")\n"
   ]
  },
  {
   "cell_type": "markdown",
   "metadata": {
    "id": "BgQkaYstyj0Q"
   },
   "source": [
    "# 1.10 Train on the full dataset (0.5 points)\n",
    "\n",
    "Now, go back to 1.1 and remove the restriction on the number of sentences in your corpus. Then, reexecute code blocks 1.2, 1.3 and 1.6 (or those relevant if you created additional ones). \n",
    "\n",
    "* Then, retrain your model on the complete dataset.\n",
    "\n",
    "* Now, the input weights of the model contain the desired word embeddings! Save them together with the corresponding vocabulary items (Pytorch provides a nice [functionality](https://pytorch.org/tutorials/beginner/saving_loading_models.html) for this)."
   ]
  },
  {
   "cell_type": "code",
   "execution_count": 71,
   "metadata": {
    "colab": {
     "base_uri": "https://localhost:8080/"
    },
    "id": "CwTdN52FNdJt",
    "outputId": "7e227bf0-f7e8-4533-eee8-98f945352e5a"
   },
   "outputs": [
    {
     "data": {
      "text/plain": [
       "Word2Vec(\n",
       "  (layer1): Linear(in_features=7348, out_features=300, bias=False)\n",
       "  (layer2): Linear(in_features=300, out_features=7348, bias=False)\n",
       "  (log_softmax): LogSoftmax(dim=0)\n",
       ")"
      ]
     },
     "execution_count": 71,
     "metadata": {
      "tags": []
     },
     "output_type": "execute_result"
    }
   ],
   "source": [
    "word2vec_model.eval()"
   ]
  },
  {
   "cell_type": "markdown",
   "metadata": {
    "id": "95L1ZqV5SFg7"
   },
   "source": [
    "For **window_size** = 1, **embedding_size** = 300, **Best Epoch loss**: ?????<br/>\n",
    "For **window_size** = 2, **embedding_size** = 300, **Best Epoch loss**: 1.555 <br/>\n",
    "For **window_size** = 10, **embedding_size** = 300, **Best Epoch loss**: 1.8762"
   ]
  },
  {
   "cell_type": "code",
   "execution_count": 90,
   "metadata": {
    "colab": {
     "base_uri": "https://localhost:8080/"
    },
    "id": "z6MH2up2LCIf",
    "outputId": "17a0f970-571a-47c9-9bcb-6fc7cf13aded"
   },
   "outputs": [
    {
     "name": "stdout",
     "output_type": "stream",
     "text": [
      "हरी\n",
      "करवाई\n",
      "विलाप\n",
      "।तू\n",
      "byculla\n",
      "केंद्र\n",
      "also\n",
      "लगता\n",
      "हैक्योंकि\n",
      "जुट\n",
      "20\n",
      "स्वरा\n",
      "खबरों\n",
      "शायद\n",
      "गजवाए\n",
      "-------\n",
      "#modisarkaar2\n",
      "छेद\n",
      "140\n",
      "#\n",
      "मजेदार\n",
      "#amethi\n",
      "भाजपाचा\n",
      "लागू\n",
      "#iccwc2019\n",
      "कथनी\n",
      "जलता\n",
      "मसरूफ़\n",
      "[meridies\n",
      "अखलाक\n",
      "मौजूदा\n"
     ]
    }
   ],
   "source": [
    "## inferencing outputs for the word: bad(खराब) \n",
    "predictions = word2vec_model(torch.unsqueeze(torch.tensor(word_to_one_hot('modi')), 0).cuda())\n",
    "\n",
    "\n",
    "\n",
    "## sampling the top k neighbors for the input word\n",
    "for i in torch.topk(predictions, 15)[1][0]:\n",
    "  print(index2word[i.item()])\n",
    "\n",
    "\n",
    "print('-------')\n",
    "predictions2 = word2vec_model(torch.unsqueeze(torch.tensor(word_to_one_hot('स्कूल')), 0).cuda())\n",
    "## sampling the top k neighbors for the input word\n",
    "for i in torch.topk(predictions2, 15)[1][0]:\n",
    "  print(index2word[i.item()])\n"
   ]
  },
  {
   "cell_type": "code",
   "execution_count": 82,
   "metadata": {
    "colab": {
     "base_uri": "https://localhost:8080/"
    },
    "id": "v6JLB4m0PrHW",
    "outputId": "909a838e-0c55-40ce-dc7d-9ed5c05f94a9"
   },
   "outputs": [
    {
     "data": {
      "text/plain": [
       "1937"
      ]
     },
     "execution_count": 82,
     "metadata": {
      "tags": []
     },
     "output_type": "execute_result"
    }
   ],
   "source": [
    "word2index['modi']"
   ]
  },
  {
   "cell_type": "code",
   "execution_count": 88,
   "metadata": {
    "colab": {
     "base_uri": "https://localhost:8080/"
    },
    "id": "qUl-e1GGNk7t",
    "outputId": "18a45ef1-b7b6-4ef3-db57-84a25a14528a"
   },
   "outputs": [
    {
     "name": "stdout",
     "output_type": "stream",
     "text": [
      "torch.Size([300, 7348]) torch.Size([7348, 1])\n"
     ]
    },
    {
     "data": {
      "text/plain": [
       "tensor(-3.6434, device='cuda:0')"
      ]
     },
     "execution_count": 88,
     "metadata": {
      "tags": []
     },
     "output_type": "execute_result"
    }
   ],
   "source": [
    "embedding_weights = word2vec_model.layer1.weight.data\n",
    "\n",
    "\n",
    "input1 = torch.unsqueeze(torch.tensor(word_to_one_hot('india')), 0).cuda()\n",
    "\n",
    "print(embedding_weights.shape, input1.T.shape)\n",
    "embedding1 = torch.matmul(embedding_weights, input1.T)\n",
    "\n",
    "\n",
    "input2 = torch.unsqueeze(torch.tensor(word_to_one_hot('modi')), 0).cuda()\n",
    "embedding2 = torch.matmul(embedding_weights, input2.T)\n",
    "\n",
    "\n",
    "torch.dot(embedding1.squeeze(1), embedding2.squeeze(1))\n"
   ]
  }
 ],
 "metadata": {
  "accelerator": "GPU",
  "colab": {
   "collapsed_sections": [],
   "name": "Task1_Word_Embeddings.ipynb",
   "provenance": [],
   "toc_visible": true
  },
  "kernelspec": {
   "display_name": "Python 3",
   "language": "python",
   "name": "python3"
  },
  "language_info": {
   "codemirror_mode": {
    "name": "ipython",
    "version": 3
   },
   "file_extension": ".py",
   "mimetype": "text/x-python",
   "name": "python",
   "nbconvert_exporter": "python",
   "pygments_lexer": "ipython3",
   "version": "3.7.3"
  }
 },
 "nbformat": 4,
 "nbformat_minor": 1
}
