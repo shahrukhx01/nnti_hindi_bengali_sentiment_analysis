{
 "cells": [
  {
   "cell_type": "markdown",
   "metadata": {},
   "source": [
    "## Task2 Bengali"
   ]
  },
  {
   "cell_type": "code",
   "execution_count": 1,
   "metadata": {},
   "outputs": [],
   "source": [
    "#imports\n",
    "from data import BengaliData\n",
    "from model import BengaliLSTMClassifier\n",
    "from train import train_model \n",
    "from eval import evaluate_test_set\n",
    "import torch\n",
    "import pickle\n",
    "from config import config_dict\n",
    "from torch import nn"
   ]
  },
  {
   "cell_type": "code",
   "execution_count": 2,
   "metadata": {},
   "outputs": [
    {
     "name": "stderr",
     "output_type": "stream",
     "text": [
      "INFO:root:loading and preprocessing data...\n",
      "INFO:root:reading and preprocessing data completed...\n",
      "INFO:root:creating vocabulary...\n",
      "INFO:root:creating vocabulary completed...\n"
     ]
    },
    {
     "name": "stdout",
     "output_type": "stream",
     "text": [
      "16622\n"
     ]
    }
   ],
   "source": [
    "## load vocab and embedding weights\n",
    "data = BengaliData(config_dict['file_paths'])\n",
    "with open(config_dict['file_paths']['embeddings_path'], 'rb') as f:\n",
    "    embedding_weights = pickle.load(f)\n"
   ]
  },
  {
   "cell_type": "code",
   "execution_count": 3,
   "metadata": {},
   "outputs": [],
   "source": [
    "## check whether the pre-trained embeddings are the same shape as of train vocabulary\n",
    "assert embedding_weights.T.shape == (len(data.vocab), config_dict['embedding_size']), \"Pre-trained embeddings size not equal to size of embedding layer\"\n"
   ]
  },
  {
   "cell_type": "code",
   "execution_count": 4,
   "metadata": {},
   "outputs": [],
   "source": [
    "## create model instance  with configurations coming from config file\n",
    "model = BengaliLSTMClassifier(pretrained_state_dict_path= config_dict['file_paths']['pretrained_path'], batch_size=config_dict['batch_size'], output_size=config_dict['num_classes'], \n",
    "                            vocab_size=len(data.vocab), hidden_size=config_dict['hidden_size'], \n",
    "                            embedding_size=config_dict['embedding_size'], weights=torch.FloatTensor(embedding_weights.T),\n",
    "                            lstm_layers=config_dict['lstm_layers'], device=config_dict['device']).to(config_dict['device'])\n",
    "\n"
   ]
  },
  {
   "cell_type": "markdown",
   "metadata": {},
   "source": [
    "##  Loading pretrained LSTM & FC weights from Hindi Classifier"
   ]
  },
  {
   "cell_type": "code",
   "execution_count": 5,
   "metadata": {},
   "outputs": [
    {
     "name": "stdout",
     "output_type": "stream",
     "text": [
      "1.7.1\n",
      "Loading pretrained weights...\n",
      "Skipping the following layer(s): word_embeddings.weight\n"
     ]
    }
   ],
   "source": [
    "## load pretrained weights\n",
    "model.load_pretrained_layers()"
   ]
  },
  {
   "cell_type": "code",
   "execution_count": 6,
   "metadata": {},
   "outputs": [],
   "source": [
    "\n",
    "## get dataloaders for train and test set\n",
    "bengali_dataloader = data.get_data_loader(batch_size=config_dict['batch_size'])\n",
    "\n",
    "## filtering out embedding weights since they won't be optimized\n",
    "optimizer = torch.optim.Adam(filter(lambda p: p.requires_grad, model.parameters()))\n",
    "\n"
   ]
  },
  {
   "cell_type": "code",
   "execution_count": 7,
   "metadata": {},
   "outputs": [
    {
     "name": "stderr",
     "output_type": "stream",
     "text": [
      "INFO:root:Epoch: 0\n",
      "INFO:root:Evaluating accuracy on dev set\n",
      "INFO:root:new model saved\n",
      "INFO:root:Train loss: 23.507125854492188 - acc: 0.5143129770992366 -- Validation loss: 4.024282932281494 - acc: 0.5476190476190477\n",
      "INFO:root:Epoch: 1\n",
      "INFO:root:Evaluating accuracy on dev set\n",
      "INFO:root:new model saved\n",
      "INFO:root:Train loss: 14.907340049743652 - acc: 0.5195610687022901 -- Validation loss: 3.4287009239196777 - acc: 0.550125313283208\n",
      "INFO:root:Epoch: 2\n",
      "INFO:root:Evaluating accuracy on dev set\n",
      "INFO:root:new model saved\n",
      "INFO:root:Train loss: 11.760234832763672 - acc: 0.5326812977099237 -- Validation loss: 3.259431838989258 - acc: 0.556390977443609\n",
      "INFO:root:Epoch: 3\n",
      "INFO:root:Evaluating accuracy on dev set\n",
      "INFO:root:Train loss: 10.074006080627441 - acc: 0.5446087786259542 -- Validation loss: 2.8756237030029297 - acc: 0.5375939849624061\n",
      "INFO:root:Epoch: 4\n",
      "INFO:root:Evaluating accuracy on dev set\n",
      "INFO:root:Train loss: 8.760408401489258 - acc: 0.548425572519084 -- Validation loss: 3.1029345989227295 - acc: 0.5526315789473685\n",
      "INFO:root:Epoch: 5\n",
      "INFO:root:Evaluating accuracy on dev set\n",
      "INFO:root:Train loss: 7.910877704620361 - acc: 0.5524809160305344 -- Validation loss: 2.795484781265259 - acc: 0.5476190476190477\n",
      "INFO:root:Epoch: 6\n",
      "INFO:root:Evaluating accuracy on dev set\n",
      "INFO:root:new model saved\n",
      "INFO:root:Train loss: 6.931283473968506 - acc: 0.5596374045801527 -- Validation loss: 2.73893404006958 - acc: 0.5601503759398496\n",
      "INFO:root:Epoch: 7\n",
      "INFO:root:Evaluating accuracy on dev set\n",
      "INFO:root:Train loss: 6.105161190032959 - acc: 0.5744274809160306 -- Validation loss: 3.0678465366363525 - acc: 0.5476190476190477\n",
      "INFO:root:Epoch: 8\n",
      "INFO:root:Evaluating accuracy on dev set\n",
      "INFO:root:new model saved\n",
      "INFO:root:Train loss: 5.60390043258667 - acc: 0.5834923664122137 -- Validation loss: 2.7323923110961914 - acc: 0.5626566416040101\n",
      "INFO:root:Epoch: 9\n",
      "INFO:root:Evaluating accuracy on dev set\n",
      "INFO:root:new model saved\n",
      "INFO:root:Train loss: 4.848402976989746 - acc: 0.5892175572519084 -- Validation loss: 2.4795541763305664 - acc: 0.5651629072681704\n",
      "INFO:root:Epoch: 10\n",
      "INFO:root:Evaluating accuracy on dev set\n",
      "INFO:root:new model saved\n",
      "INFO:root:Train loss: 4.367932319641113 - acc: 0.5978053435114504 -- Validation loss: 2.964109420776367 - acc: 0.5739348370927319\n",
      "INFO:root:Epoch: 11\n",
      "INFO:root:Evaluating accuracy on dev set\n",
      "INFO:root:Train loss: 3.9732425212860107 - acc: 0.6063931297709924 -- Validation loss: 3.2763514518737793 - acc: 0.5714285714285714\n",
      "INFO:root:Epoch: 12\n",
      "INFO:root:Evaluating accuracy on dev set\n",
      "INFO:root:new model saved\n",
      "INFO:root:Train loss: 3.6478829383850098 - acc: 0.6142652671755725 -- Validation loss: 3.314070224761963 - acc: 0.5952380952380952\n",
      "INFO:root:Epoch: 13\n",
      "INFO:root:Evaluating accuracy on dev set\n",
      "INFO:root:Train loss: 3.369533061981201 - acc: 0.6316793893129771 -- Validation loss: 3.2449209690093994 - acc: 0.581453634085213\n",
      "INFO:root:Epoch: 14\n",
      "INFO:root:Evaluating accuracy on dev set\n",
      "INFO:root:Train loss: 3.0445199012756348 - acc: 0.6295324427480916 -- Validation loss: 3.0110983848571777 - acc: 0.5889724310776943\n",
      "INFO:root:Epoch: 15\n",
      "INFO:root:Evaluating accuracy on dev set\n",
      "INFO:root:Train loss: 2.8395345211029053 - acc: 0.6352576335877863 -- Validation loss: 2.6983389854431152 - acc: 0.5789473684210527\n",
      "INFO:root:Epoch: 16\n",
      "INFO:root:Evaluating accuracy on dev set\n",
      "INFO:root:new model saved\n",
      "INFO:root:Train loss: 2.528857707977295 - acc: 0.6383587786259542 -- Validation loss: 3.2665014266967773 - acc: 0.5964912280701754\n",
      "INFO:root:Epoch: 17\n",
      "INFO:root:Evaluating accuracy on dev set\n",
      "INFO:root:Train loss: 2.3939507007598877 - acc: 0.643368320610687 -- Validation loss: 2.7269158363342285 - acc: 0.5877192982456141\n",
      "INFO:root:Epoch: 18\n",
      "INFO:root:Evaluating accuracy on dev set\n",
      "INFO:root:Train loss: 2.257420301437378 - acc: 0.6574427480916031 -- Validation loss: 3.2980165481567383 - acc: 0.581453634085213\n",
      "INFO:root:Epoch: 19\n",
      "INFO:root:Evaluating accuracy on dev set\n",
      "INFO:root:new model saved\n",
      "INFO:root:Train loss: 1.9951410293579102 - acc: 0.6650763358778626 -- Validation loss: 3.123802661895752 - acc: 0.606516290726817\n",
      "INFO:root:Epoch: 20\n",
      "INFO:root:Evaluating accuracy on dev set\n",
      "INFO:root:new model saved\n",
      "INFO:root:Train loss: 1.834301233291626 - acc: 0.6531488549618321 -- Validation loss: 3.1031336784362793 - acc: 0.6102756892230576\n",
      "INFO:root:Epoch: 21\n",
      "INFO:root:Evaluating accuracy on dev set\n",
      "INFO:root:Train loss: 1.7020606994628906 - acc: 0.6674618320610687 -- Validation loss: 3.3316457271575928 - acc: 0.5952380952380952\n",
      "INFO:root:Epoch: 22\n",
      "INFO:root:Evaluating accuracy on dev set\n",
      "INFO:root:Train loss: 1.6249749660491943 - acc: 0.6700858778625954 -- Validation loss: 3.405810832977295 - acc: 0.5889724310776943\n",
      "INFO:root:Epoch: 23\n",
      "INFO:root:Evaluating accuracy on dev set\n",
      "INFO:root:Train loss: 1.5149872303009033 - acc: 0.6755725190839694 -- Validation loss: 2.8480899333953857 - acc: 0.6052631578947368\n",
      "INFO:root:Epoch: 24\n",
      "INFO:root:Evaluating accuracy on dev set\n",
      "INFO:root:Train loss: 1.7737504243850708 - acc: 0.6968034351145038 -- Validation loss: 3.433835029602051 - acc: 0.6015037593984962\n",
      "INFO:root:Epoch: 25\n",
      "INFO:root:Evaluating accuracy on dev set\n",
      "INFO:root:Train loss: 1.4981982707977295 - acc: 0.6657919847328244 -- Validation loss: 3.152069330215454 - acc: 0.5989974937343359\n",
      "INFO:root:Epoch: 26\n",
      "INFO:root:Evaluating accuracy on dev set\n",
      "INFO:root:Train loss: 1.3782281875610352 - acc: 0.6789122137404581 -- Validation loss: 3.357760190963745 - acc: 0.6077694235588973\n",
      "INFO:root:Epoch: 27\n",
      "INFO:root:Evaluating accuracy on dev set\n",
      "INFO:root:Train loss: 1.324812412261963 - acc: 0.6903625954198473 -- Validation loss: 3.357180595397949 - acc: 0.600250626566416\n",
      "INFO:root:Epoch: 28\n",
      "INFO:root:Evaluating accuracy on dev set\n",
      "INFO:root:new model saved\n",
      "INFO:root:Train loss: 1.1552581787109375 - acc: 0.6882156488549618 -- Validation loss: 3.0358638763427734 - acc: 0.6177944862155389\n",
      "INFO:root:Epoch: 29\n",
      "INFO:root:Evaluating accuracy on dev set\n",
      "INFO:root:Train loss: 1.0662881135940552 - acc: 0.6879770992366412 -- Validation loss: 3.200819253921509 - acc: 0.6027568922305765\n"
     ]
    },
    {
     "data": {
      "text/plain": [
       "BengaliLSTMClassifier(\n",
       "  (word_embeddings): Embedding(16622, 300)\n",
       "  (lstm): LSTM(300, 32)\n",
       "  (out): Linear(in_features=32, out_features=2, bias=True)\n",
       "  (sigmoid): Sigmoid()\n",
       "  (dropout_layer): Dropout(p=0.2, inplace=False)\n",
       ")"
      ]
     },
     "execution_count": 7,
     "metadata": {},
     "output_type": "execute_result"
    }
   ],
   "source": [
    "## training the model on train set\n",
    "model = train_model(model, optimizer, bengali_dataloader, data, max_epochs=config_dict['epochs'],config_dict=config_dict)"
   ]
  },
  {
   "cell_type": "code",
   "execution_count": 11,
   "metadata": {},
   "outputs": [
    {
     "name": "stderr",
     "output_type": "stream",
     "text": [
      "INFO:root:Evaluating accuracy on test set\n"
     ]
    },
    {
     "name": "stdout",
     "output_type": "stream",
     "text": [
      "Test acc: 0.624248496993988\n",
      "\n",
      "\n",
      "\n",
      "                 precision    recall  f1-score   support\n",
      "\n",
      "non hate speech       0.84      0.25      0.39       472\n",
      "    hate speech       0.59      0.96      0.73       526\n",
      "\n",
      "       accuracy                           0.62       998\n",
      "      macro avg       0.71      0.61      0.56       998\n",
      "   weighted avg       0.71      0.62      0.57       998\n",
      "\n"
     ]
    }
   ],
   "source": [
    "## loading the best model saved during training from disk\n",
    "model.load_state_dict(torch.load('{}.pth'.format(config_dict['model_name']), map_location=torch.device(config_dict['device'])))\n",
    "## evaluate model on test set\n",
    "evaluate_test_set(model, data, bengali_dataloader, device=config_dict['device'])"
   ]
  }
 ],
 "metadata": {
  "kernelspec": {
   "display_name": "Python 3",
   "language": "python",
   "name": "python3"
  },
  "language_info": {
   "codemirror_mode": {
    "name": "ipython",
    "version": 3
   },
   "file_extension": ".py",
   "mimetype": "text/x-python",
   "name": "python",
   "nbconvert_exporter": "python",
   "pygments_lexer": "ipython3",
   "version": "3.7.3"
  }
 },
 "nbformat": 4,
 "nbformat_minor": 4
}
