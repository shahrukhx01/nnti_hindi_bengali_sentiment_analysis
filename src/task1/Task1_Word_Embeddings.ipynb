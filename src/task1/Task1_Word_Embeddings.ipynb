{
  "nbformat": 4,
  "nbformat_minor": 0,
  "metadata": {
    "kernelspec": {
      "name": "python3",
      "display_name": "Python 3"
    },
    "colab": {
      "name": "Task1_Word_Embeddings.ipynb",
      "provenance": [],
      "collapsed_sections": [],
      "toc_visible": true
    },
    "accelerator": "GPU"
  },
  "cells": [
    {
      "cell_type": "markdown",
      "metadata": {
        "id": "_VZXi_KGi0UR"
      },
      "source": [
        "# Task 1: Word Embeddings (10 points)\r\n",
        "\r\n",
        "This notebook will guide you through all steps necessary to train a word2vec model (Detailed description in the PDF)."
      ]
    },
    {
      "cell_type": "markdown",
      "metadata": {
        "id": "48t-II1vkuau"
      },
      "source": [
        "## Imports\r\n",
        "\r\n",
        "This code block is reserved for your imports. \r\n",
        "\r\n",
        "You are free to use the following packages: \r\n",
        "\r\n",
        "(List of packages)"
      ]
    },
    {
      "cell_type": "code",
      "metadata": {
        "id": "4kh6nh84-AOL"
      },
      "source": [
        "############ loading all the necessary packages ############\n",
        "import torch\n",
        "from torch import nn\n",
        "import pandas as pd\n",
        "import re\n",
        "import numpy as np\n",
        "from torch.utils.data import Dataset\n",
        "from torch.utils.data import DataLoader\n",
        "from torch.utils.data.dataloader import default_collate\n",
        "from tqdm import tqdm\n",
        "from torchsummary import summary\n",
        "import matplotlib.pylab as plt\n",
        "import pickle"
      ],
      "execution_count": 2,
      "outputs": []
    },
    {
      "cell_type": "markdown",
      "metadata": {
        "id": "NWmk3hVllEcU"
      },
      "source": [
        "# 1.1 Get the data (0.5 points)\r\n",
        "\r\n",
        "The Hindi portion HASOC corpus from [github.io](https://hasocfire.github.io/hasoc/2019/dataset.html) is already available in the repo, at data/hindi_hatespeech.tsv . Load it into a data structure of your choice. Then, split off a small part of the corpus as a development set (~100 data points).\r\n",
        "\r\n",
        "If you are using Colab the first two lines will let you upload folders or files from your local file system."
      ]
    },
    {
      "cell_type": "code",
      "metadata": {
        "id": "XtI7DJ-0-AOP",
        "colab": {
          "base_uri": "https://localhost:8080/",
          "height": 204
        },
        "outputId": "6ebd1a32-bc1c-4287-d926-d5f92b09d520"
      },
      "source": [
        "#TODO: implement!\n",
        "\n",
        "#from google.colab import files\n",
        "#uploaded = files.upload()\n",
        "\n",
        "############ reading the the tsv file into data ############ \n",
        "data = pd.read_csv('hindi_hatespeech.tsv', sep='\\t')\n",
        "\n",
        "data.head() # looking at the first 5 rows of the data\n"
      ],
      "execution_count": 6,
      "outputs": [
        {
          "output_type": "execute_result",
          "data": {
            "text/html": [
              "<div>\n",
              "<style scoped>\n",
              "    .dataframe tbody tr th:only-of-type {\n",
              "        vertical-align: middle;\n",
              "    }\n",
              "\n",
              "    .dataframe tbody tr th {\n",
              "        vertical-align: top;\n",
              "    }\n",
              "\n",
              "    .dataframe thead th {\n",
              "        text-align: right;\n",
              "    }\n",
              "</style>\n",
              "<table border=\"1\" class=\"dataframe\">\n",
              "  <thead>\n",
              "    <tr style=\"text-align: right;\">\n",
              "      <th></th>\n",
              "      <th>text_id</th>\n",
              "      <th>text</th>\n",
              "      <th>task_1</th>\n",
              "      <th>task_2</th>\n",
              "      <th>task_3</th>\n",
              "    </tr>\n",
              "  </thead>\n",
              "  <tbody>\n",
              "    <tr>\n",
              "      <th>0</th>\n",
              "      <td>hasoc_hi_5556</td>\n",
              "      <td>बांग्लादेश की शानदार वापसी, भारत को 314 रन पर ...</td>\n",
              "      <td>NOT</td>\n",
              "      <td>NONE</td>\n",
              "      <td>NONE</td>\n",
              "    </tr>\n",
              "    <tr>\n",
              "      <th>1</th>\n",
              "      <td>hasoc_hi_5648</td>\n",
              "      <td>सब रंडी नाच देखने मे व्यस्त जैसे ही कोई #शांती...</td>\n",
              "      <td>HOF</td>\n",
              "      <td>PRFN</td>\n",
              "      <td>UNT</td>\n",
              "    </tr>\n",
              "    <tr>\n",
              "      <th>2</th>\n",
              "      <td>hasoc_hi_164</td>\n",
              "      <td>तुम जैसे हरामियों के लिए बस जूतों की कमी है शु...</td>\n",
              "      <td>HOF</td>\n",
              "      <td>PRFN</td>\n",
              "      <td>TIN</td>\n",
              "    </tr>\n",
              "    <tr>\n",
              "      <th>3</th>\n",
              "      <td>hasoc_hi_3530</td>\n",
              "      <td>बीजेपी MLA आकाश विजयवर्गीय जेल से रिहा, जमानत ...</td>\n",
              "      <td>NOT</td>\n",
              "      <td>NONE</td>\n",
              "      <td>NONE</td>\n",
              "    </tr>\n",
              "    <tr>\n",
              "      <th>4</th>\n",
              "      <td>hasoc_hi_5206</td>\n",
              "      <td>चमकी बुखार: विधानसभा परिसर में आरजेडी का प्रदर...</td>\n",
              "      <td>NOT</td>\n",
              "      <td>NONE</td>\n",
              "      <td>NONE</td>\n",
              "    </tr>\n",
              "  </tbody>\n",
              "</table>\n",
              "</div>"
            ],
            "text/plain": [
              "         text_id  ... task_3\n",
              "0  hasoc_hi_5556  ...   NONE\n",
              "1  hasoc_hi_5648  ...    UNT\n",
              "2   hasoc_hi_164  ...    TIN\n",
              "3  hasoc_hi_3530  ...   NONE\n",
              "4  hasoc_hi_5206  ...   NONE\n",
              "\n",
              "[5 rows x 5 columns]"
            ]
          },
          "metadata": {
            "tags": []
          },
          "execution_count": 6
        }
      ]
    },
    {
      "cell_type": "code",
      "metadata": {
        "colab": {
          "base_uri": "https://localhost:8080/"
        },
        "id": "U-XfPp6yCqAg",
        "outputId": "67f37300-32c5-4d1a-dac7-59185ff89a55"
      },
      "source": [
        "data = data.sample(1000) # sampling 1000 data points from the loaded data\n",
        "data.shape # checking the shape of the data"
      ],
      "execution_count": 7,
      "outputs": [
        {
          "output_type": "execute_result",
          "data": {
            "text/plain": [
              "(1000, 5)"
            ]
          },
          "metadata": {
            "tags": []
          },
          "execution_count": 7
        }
      ]
    },
    {
      "cell_type": "markdown",
      "metadata": {
        "id": "D-mSJ8nUlupB"
      },
      "source": [
        "## 1.2 Data preparation (0.5 + 0.5 points)\r\n",
        "\r\n",
        "* Prepare the data by removing everything that does not contain information. \r\n",
        "User names (starting with '@') and punctuation symbols clearly do not convey information, but we also want to get rid of so-called [stopwords](https://en.wikipedia.org/wiki/Stop_word), i. e. words that have little to no semantic content (and, but, yes, the...). Hindi stopwords can be found [here](https://github.com/stopwords-iso/stopwords-hi/blob/master/stopwords-hi.txt) Then, standardize the spelling by lowercasing all words.\r\n",
        "Do this for the development section of the corpus for now.\r\n",
        "\r\n",
        "* What about hashtags (starting with '#') and emojis? Should they be removed too? Justify your answer in the report, and explain how you accounted for this in your implementation."
      ]
    },
    {
      "cell_type": "code",
      "metadata": {
        "id": "TEyZpk5GEaxM"
      },
      "source": [
        "USERNAME_PATTERN = r'@([A-Za-z0-9_]+)' # specifying the pattern for identifying usernames\n",
        "PUNCTUATION_PATTERN = '\\'’|!@$%^&*()_+<>?:.,;-' # specifying the pattern for identifying punctuations"
      ],
      "execution_count": 8,
      "outputs": []
    },
    {
      "cell_type": "code",
      "metadata": {
        "id": "CH5L51dVJNAX"
      },
      "source": [
        "stopwords_hindi_file = open('stopwords-hi.txt', 'r') # loading the file with stopwords for hindi dataset\n",
        "stopwords_hindi = [line.replace('\\n','') for line in stopwords_hindi_file.readlines()]"
      ],
      "execution_count": 9,
      "outputs": []
    },
    {
      "cell_type": "code",
      "metadata": {
        "id": "CHcNeyKi-AOQ"
      },
      "source": [
        "#TODO: implement!\n",
        "def remove_punctuations(text):\n",
        "  '''\n",
        "  this method removes the punctuations in a given text \n",
        "  using the PUNCTUATION_PATTERN specified.\n",
        "\n",
        "  Arguments: \n",
        "  text -- string containing the punctuations.\n",
        "\n",
        "  Return:\n",
        "  text -- string with no punctuations.\n",
        "  '''\n",
        "  return \"\".join([c for c in text if c not in PUNCTUATION_PATTERN])\n",
        "\n",
        "\n",
        "\n",
        "def remove_stopwords(text):\n",
        "  '''\n",
        "  this method removes the stop words in a given text \n",
        "  using the stopwords_hindi specified.\n",
        "\n",
        "  Arguments: \n",
        "  text -- string containing the stop words.\n",
        "\n",
        "  Return:\n",
        "  text -- string with no stop words.\n",
        "  '''\n",
        "  return \" \".join([word for word in text.split() if word not in stopwords_hindi])\n",
        "\n",
        "\n",
        "\n",
        "def remove_usernames(text):  \n",
        "  '''\n",
        "  this method removes any usernames in a given text \n",
        "  using the USERNAME_PATTERN specified.\n",
        "\n",
        "  Arguments: \n",
        "  text -- string containing the usernames.\n",
        "\n",
        "  Return:\n",
        "  text -- string with no usernames.\n",
        "  '''\n",
        "  return re.sub(USERNAME_PATTERN, '', text)\n",
        "  "
      ],
      "execution_count": 10,
      "outputs": []
    },
    {
      "cell_type": "code",
      "metadata": {
        "id": "KFE0aAZmEwz1"
      },
      "source": [
        "## normalizing text to lower case\n",
        "data['clean_text'] = data.text.apply(lambda text: text.lower())\n",
        "\n",
        "## removing usernames\n",
        "data['clean_text'] = data.clean_text.apply(remove_usernames)\n",
        "\n",
        "## removing punctuations\n",
        "data['clean_text'] = data.clean_text.apply(remove_punctuations)\n",
        "\n",
        "## removing stopwords\n",
        "data['clean_text'] = data.clean_text.apply(remove_stopwords)\n"
      ],
      "execution_count": 11,
      "outputs": []
    },
    {
      "cell_type": "markdown",
      "metadata": {
        "id": "Je09nozLmmMm"
      },
      "source": [
        "## 1.3 Build the vocabulary (0.5 + 0.5 points)\r\n",
        "\r\n",
        "The input to the first layer of word2vec is an one-hot encoding of the current word. The output of the model is then compared to a numeric class label of the words within the size of the skip-gram window. Now\r\n",
        "\r\n",
        "* Compile a list of all words in the development section of your corpus and save it in a variable ```V```."
      ]
    },
    {
      "cell_type": "code",
      "metadata": {
        "id": "VpoGmTKx-AOQ"
      },
      "source": [
        "#TODO: implement!\n",
        "############ forming a list V with all the unique values in our dataset ############\n",
        "V = list(data.clean_text.str.split(expand=True).stack().value_counts().keys())\n"
      ],
      "execution_count": 22,
      "outputs": []
    },
    {
      "cell_type": "code",
      "metadata": {
        "id": "-nXuzKlLUNTU"
      },
      "source": [
        "## vocabulary for mapping words to index\n",
        "word2index = {word:index for index,word in enumerate(V)}\n",
        "\n",
        "## vocabulary for mapping index to words\n",
        "index2word = {index:word for index,word in enumerate(V)}\n"
      ],
      "execution_count": 23,
      "outputs": []
    },
    {
      "cell_type": "markdown",
      "metadata": {
        "id": "WiaVglVNoENY"
      },
      "source": [
        "* Then, write a function ```word_to_one_hot``` that returns a one-hot encoding of an arbitrary word in the vocabulary. The size of the one-hot encoding should be ```len(v)```."
      ]
    },
    {
      "cell_type": "code",
      "metadata": {
        "id": "yqPNw6IT-AOQ"
      },
      "source": [
        "#TODO: implement!\n",
        "def word_to_one_hot(word):\n",
        "  '''\n",
        "  this method converts every text word into a list of binary integers representing \n",
        "  the word numerically\n",
        "\n",
        "  Arguments: \n",
        "  word -- any string value of any variable length\n",
        "\n",
        "  Return:\n",
        "  list -- list of integers, numerical representation of the text word\n",
        "  '''\n",
        "  one_hot_encoding = [0]*len(V)\n",
        "  one_hot_encoding[word2index[word]] = 1.0\n",
        "  return one_hot_encoding\n"
      ],
      "execution_count": 24,
      "outputs": []
    },
    {
      "cell_type": "markdown",
      "metadata": {
        "id": "gKD8zBlxVclh"
      },
      "source": [
        "## 1.4 Subsampling (0.5 points)\r\n",
        "\r\n",
        "The probability to keep a word in a context is given by:\r\n",
        "\r\n",
        "$P_{keep}(w_i) = \\Big(\\sqrt{\\frac{z(w_i)}{0.001}}+1\\Big) \\cdot \\frac{0.001}{z(w_i)}$\r\n",
        "\r\n",
        "Where $z(w_i)$ is the relative frequency of the word $w_i$ in the corpus. Now,\r\n",
        "* Calculate word frequencies\r\n",
        "* Define a function ```sampling_prob``` that takes a word (string) as input and returns the probabiliy to **keep** the word in a context."
      ]
    },
    {
      "cell_type": "code",
      "metadata": {
        "id": "Mj4sDOVMMr0b"
      },
      "source": [
        "#TODO: implement!\r\n",
        "word_frequencies = dict(data.clean_text.str.split(expand=True).stack().value_counts())\r\n",
        "total_frequency = sum(word_frequencies.values())\r\n",
        "\r\n",
        "def sampling_prob(word):\r\n",
        "  '''\r\n",
        "  this method takes in a text word and return back the probability of\r\n",
        "  keeping the word in the context using the specified subsampling formula\r\n",
        "\r\n",
        "  Arguments: \r\n",
        "  word -- any string value of any variable length\r\n",
        "\r\n",
        "  Return:\r\n",
        "  float64 numerical value -- probability score ranging from 0 to 1\r\n",
        "  '''\r\n",
        "  relative_frequency = word_frequencies[word]/total_frequency\r\n",
        "  return (np.sqrt(relative_frequency / .001) + 1 ) * (.001/relative_frequency)\r\n",
        "  "
      ],
      "execution_count": 35,
      "outputs": []
    },
    {
      "cell_type": "markdown",
      "metadata": {
        "id": "kxV1P90zplxu"
      },
      "source": [
        "# 1.5 Skip-Grams (1 point)\r\n",
        "\r\n",
        "Now that you have the vocabulary and one-hot encodings at hand, you can start to do the actual work. The skip gram model requires training data of the shape ```(current_word, context)```, with ```context``` being the words before and/or after ```current_word``` within ```window_size```. \r\n",
        "\r\n",
        "* Have closer look on the original paper. If you feel to understand how skip-gram works, implement a function ```get_target_context``` that takes a sentence as input and [yield](https://docs.python.org/3.9/reference/simple_stmts.html#the-yield-statement)s a ```(current_word, context)```.\r\n",
        "\r\n",
        "* Use your ```sampling_prob``` function to drop words from contexts as you sample them. "
      ]
    },
    {
      "cell_type": "code",
      "metadata": {
        "id": "r8CCTpVy-AOR"
      },
      "source": [
        "#TODO: implement!\n",
        "def get_target_context(sentence, window_size):\n",
        "  '''\n",
        "  this method takes in a sentence and a window_size and returns back \n",
        "  the words of related context\n",
        "\n",
        "  Arguments: \n",
        "  sentence -- any string value of any variable length\n",
        "  window_size -- specifies the number of context related words to get\n",
        "\n",
        "  Return:\n",
        "  generator class object -- consisting of tuples, with each tuple having the current word\n",
        "                            and a list of context related words, number of context words\n",
        "                            as specified by the window size\n",
        "  '''\n",
        "\n",
        "  tokens = sentence.split()\n",
        "  for current_word_index, current_word in enumerate(tokens):\n",
        "    context = []\n",
        "    for context_word_index in range(current_word_index-window_size, current_word_index + window_size + 1):\n",
        "      ## check wthether context word index is within sequence and is not the current word itself.\n",
        "      if current_word_index != context_word_index and context_word_index <= len(tokens) -1 and context_word_index >=0:\n",
        "        \n",
        "        # increase sampling chances of infrequent words in context\n",
        "        if np.random.random() < sampling_prob(tokens[context_word_index]):\n",
        "          context.append(tokens[context_word_index])\n",
        "\n",
        "    yield (current_word, context)\n"
      ],
      "execution_count": 26,
      "outputs": []
    },
    {
      "cell_type": "markdown",
      "metadata": {
        "id": "F3oq2DLU9ntY"
      },
      "source": [
        "## 1.5a HASOC Dataloader"
      ]
    },
    {
      "cell_type": "code",
      "metadata": {
        "id": "fS3TeHCZABZR"
      },
      "source": [
        "class HASOCDataset:\n",
        "    ##### a custom dataset class for holding data for word2vec embeddings (using skip-gram) #####\n",
        "    def __init__(self, data, window_size, batch_size=32):\n",
        "      '''\n",
        "      This constructor is instantiated when an object of this class is created.\n",
        "      It sets the values for the data, window_size and batch_size for the object \n",
        "\n",
        "      Arguments: \n",
        "      data -- dataset that needs to be loaded\n",
        "      window_size -- integer value, specifies the number of context related words to get\n",
        "      batch_size -- integer value, number of observations per batch\n",
        "\n",
        "      '''\n",
        "      self.data = data\n",
        "      self.window_size = window_size\n",
        "      self.batch_size = batch_size\n",
        "\n",
        "    def load_data(self):\n",
        "        '''\n",
        "        this method loads the data by using the transform_data method \n",
        "        '''\n",
        "        for i in tqdm(range(len(self.data.clean_text.values))):\n",
        "          self.transform_data(i)\n",
        "        \n",
        "    def transform_data(self, index):\n",
        "      '''\n",
        "      this method transforms the data into inputs and labels  \n",
        "      '''\n",
        "      X, Y = [], []\n",
        "\n",
        "      ## get the text sequence from dataframe\n",
        "      sentence = self.data.clean_text.values[index]\n",
        "\n",
        "       ## fetch context words within the context window\n",
        "      for current_word, context in get_target_context(sentence, window_size=self.window_size):\n",
        "        current_word_onehot = word_to_one_hot(current_word)\n",
        "\n",
        "    ## iterate over context list and one hot encode them and align them with input\n",
        "        for context_word in context:\n",
        "          context_word_onehot = word2index[context_word]\n",
        "\n",
        "          X.append(current_word_onehot)\n",
        "          Y.append(context_word_onehot)\n",
        "\n",
        "      ## casting the lists to tensors, as forward pass expects float tensor and loss function expects long tensor\n",
        "      self.inputs, self.labels = torch.FloatTensor(X), torch.LongTensor(Y)\n",
        "    \n",
        "\n",
        "    def batchify(self):\n",
        "      '''\n",
        "      this method creates and returns back the batches of the dataset loaded \n",
        "      '''\n",
        "      index = 0\n",
        "      for index in range(0, len(self.inputs), self.batch_size):\n",
        "        yield (self.inputs[index:index+self.batch_size], self.labels[index:index+self.batch_size])\n",
        "   \n",
        "\n",
        "    "
      ],
      "execution_count": 59,
      "outputs": []
    },
    {
      "cell_type": "markdown",
      "metadata": {
        "id": "gfEFgtkmuDjL"
      },
      "source": [
        "# 1.6 Hyperparameters (0.5 points)\r\n",
        "\r\n",
        "According to the word2vec paper, what would be a good choice for the following hyperparameters? \r\n",
        "\r\n",
        "* Embedding dimension\r\n",
        "* Window size\r\n",
        "\r\n",
        "Initialize them in a dictionary or as independent variables in the code block below. "
      ]
    },
    {
      "cell_type": "code",
      "metadata": {
        "id": "d7xSKuFJcYoD"
      },
      "source": [
        "# Set hyperparameters\n",
        "window_size = 10\n",
        "embedding_size = 300\n",
        "input_size = len(V)\n",
        "batch_size = 32\n",
        "\n",
        "# More hyperparameters\n",
        "learning_rate = 0.05\n",
        "epochs = 500"
      ],
      "execution_count": 29,
      "outputs": []
    },
    {
      "cell_type": "code",
      "metadata": {
        "colab": {
          "base_uri": "https://localhost:8080/"
        },
        "id": "xBWBAZHrEruy",
        "outputId": "21a7c8aa-e015-4330-868e-d8b101536b19"
      },
      "source": [
        "## instantiate HASOC dataset \n",
        "## window size changes over here\n",
        "print('loading and transforming data...')\n",
        "hasoc_dataset = HASOCDataset(data, window_size, batch_size=batch_size)\n",
        "hasoc_dataset.load_data()"
      ],
      "execution_count": 60,
      "outputs": [
        {
          "output_type": "stream",
          "text": [
            "  0%|          | 3/1000 [00:00<01:05, 15.16it/s]"
          ],
          "name": "stderr"
        },
        {
          "output_type": "stream",
          "text": [
            "loading and transforming data...\n"
          ],
          "name": "stdout"
        },
        {
          "output_type": "stream",
          "text": [
            "100%|██████████| 1000/1000 [00:49<00:00, 20.39it/s]\n"
          ],
          "name": "stderr"
        }
      ]
    },
    {
      "cell_type": "markdown",
      "metadata": {
        "id": "xiM2zq-YunPx"
      },
      "source": [
        "# 1.7 Pytorch Module (0.5 + 0.5 + 0.5 points)\r\n",
        "\r\n",
        "Pytorch provides a wrapper for your fancy and super-complex models: [torch.nn.Module](https://pytorch.org/docs/stable/generated/torch.nn.Module.html). The code block below contains a skeleton for such a wrapper. Now,\r\n",
        "\r\n",
        "* Initialize the two weight matrices of word2vec as fields of the class.\r\n",
        "\r\n",
        "* Override the ```forward``` method of this class. It should take a one-hot encoding as input, perform the matrix multiplications, and finally apply a log softmax on the output layer.\r\n",
        "\r\n",
        "* Initialize the model and save its weights in a variable. The Pytorch documentation will tell you how to do that."
      ]
    },
    {
      "cell_type": "code",
      "metadata": {
        "id": "D9sGNytYhwxS"
      },
      "source": [
        "# Create model \n",
        "\n",
        "class Word2Vec(nn.Module):\n",
        "  def __init__(self, input_size, hidden_size):\n",
        "    '''\n",
        "    this constructor instantiates the nn.Linear modules \n",
        "    '''\n",
        "    super().__init__()\n",
        "    self.layer1 = nn.Linear(in_features=input_size, out_features=hidden_size, bias=False)\n",
        "    self.layer2 = nn.Linear(in_features=hidden_size, out_features=input_size, bias=False)\n",
        "    #self.log_softmax = nn.LogSoftmax(dim=0)\n",
        "\n",
        "  def forward(self, one_hot):\n",
        "    '''\n",
        "    this method does the forward pass\n",
        "    '''\n",
        "    x = self.layer1(one_hot)\n",
        "    x = self.layer2(x)\n",
        "    # omitted logsoftmax since we use CrossEntropyLoss which has implicit NLL + Logsoftmax\n",
        "    # y = self.log_softmax(x)\n",
        "    return x\n",
        "\n",
        "def init_weights(m):\n",
        "    '''\n",
        "    this method initializes the weights using the normal distribution\n",
        "    or sets the pretrained weights of a model\n",
        "      \n",
        "    Argument: \n",
        "    m -- pretrained weights of the model \n",
        "    '''\n",
        "  if type(m) == nn.Linear:\n",
        "    nn.init.normal_(m.weight)\n",
        "\n",
        "device = torch.device('cuda' if torch.cuda.is_available() else 'cpu')"
      ],
      "execution_count": 31,
      "outputs": []
    },
    {
      "cell_type": "markdown",
      "metadata": {
        "id": "XefIDMMHv5zJ"
      },
      "source": [
        "# 1.8 Loss function and optimizer (0.5 points)\r\n",
        "\r\n",
        "Initialize variables with [optimizer](https://pytorch.org/docs/stable/optim.html#module-torch.optim) and loss function. You can take what is used in the word2vec paper, but you can use alternative optimizers/loss functions if you explain your choice in the report."
      ]
    },
    {
      "cell_type": "code",
      "metadata": {
        "id": "V9-Ino-e29w3"
      },
      "source": [
        "# Define optimizer and loss\n",
        "word2vec_model = Word2Vec(input_size=input_size, hidden_size=embedding_size) \n",
        "is_untrained = True # is_trained = 1 for the new training of the model\n",
        "\n",
        "if is_untrained: # checks the flag for the trained model \n",
        "  word2vec_model.apply(init_weights)\n",
        "else:\n",
        "  word2vec_model.load_state_dict(torch.load('/content/word2vec_ws10.pth'.format(window_size)))\n",
        "\n",
        "word2vec_model = word2vec_model.to(device)\n",
        "word2vec_model.train(True)\n",
        "\n",
        "optimizer = torch.optim.Adam(word2vec_model.parameters(), lr=learning_rate)\n",
        "#criterion = nn.NLLLoss()\n",
        "\n",
        "criterion = nn.CrossEntropyLoss()"
      ],
      "execution_count": null,
      "outputs": []
    },
    {
      "cell_type": "markdown",
      "metadata": {
        "id": "ckTfK78Ew8wI"
      },
      "source": [
        "# 1.9 Training the model (3 points)\r\n",
        "\r\n",
        "As everything is prepared, implement a training loop that performs several passes of the data set through the model. You are free to do this as you please, but your code should:\r\n",
        "\r\n",
        "* Load the weights saved in 1.6 at the start of every execution of the code block\r\n",
        "* Print the accumulated loss at least after every epoch (the accumulate loss should be reset after every epoch)\r\n",
        "* Define a criterion for the training procedure to terminate if a certain loss value is reached. You can find the threshold by observing the loss for the development set.\r\n",
        "\r\n",
        "You can play around with the number of epochs and the learning rate."
      ]
    },
    {
      "cell_type": "code",
      "metadata": {
        "id": "LbMGD5L0mLDx",
        "colab": {
          "base_uri": "https://localhost:8080/"
        },
        "outputId": "3aa9fb1f-cc3d-416c-8f0b-2b07fcd9cef4"
      },
      "source": [
        "loss_list = []\n",
        "# Define train procedure\n",
        "def train():\n",
        "  '''\n",
        "  on calling this method the training loop will be executed for specified \n",
        "  number of epochs on the batches of dataset provided by the bachify method\n",
        "\n",
        "  Arguments: \n",
        "  takes no argument\n",
        "\n",
        "  Return:\n",
        "  gives no return \n",
        "\n",
        "  '''\n",
        "  min_loss = 1e3\n",
        "  print(\"Training started for lr {}\".format(learning_rate))\n",
        "   \n",
        "  for epoch in range(epochs):\n",
        "    loss_val = []\n",
        "    \n",
        "    for (X,y) in hasoc_dataset.batchify():\n",
        "        X= X.to(device)\n",
        "        y = y.to(device)\n",
        "\n",
        "        ## forward pass\n",
        "        output = word2vec_model(X)\n",
        "        loss = criterion(output, y)\n",
        "        ## backward and optimize\n",
        "        optimizer.zero_grad()\n",
        "        loss.backward()\n",
        "        optimizer.step()\n",
        "        loss_val.append(loss.item())\n",
        "    \n",
        "    if np.mean(loss_val) < min_loss:\n",
        "      min_loss = np.mean(loss_val)\n",
        "      print('new model saved with epoch loss {}'.format(min_loss))\n",
        "      torch.save(word2vec_model.state_dict(), '/content/models/word2vec_ws{}.pth'.format(window_size))\n",
        "\n",
        "    if (epoch+1) % 1 == 0:\n",
        "      print (f'Epoch [{epoch+1}/{epochs}], Loss: {np.mean(loss_val):.4f}')\n",
        "      loss_list.append(np.mean(loss_val))\n",
        "\n",
        "train()\n",
        "print(\"Training finished\")\n"
      ],
      "execution_count": null,
      "outputs": [
        {
          "output_type": "stream",
          "text": [
            "Training started for lr 0.05\n",
            "new model saved with epoch loss 57.965525683234716\n",
            "Epoch [1/500], Loss: 57.9655\n",
            "new model saved with epoch loss 28.876949534696692\n",
            "Epoch [2/500], Loss: 28.8769\n",
            "new model saved with epoch loss 28.2165262558881\n",
            "Epoch [3/500], Loss: 28.2165\n",
            "Epoch [4/500], Loss: 32.9905\n",
            "Epoch [5/500], Loss: 36.3926\n",
            "Epoch [6/500], Loss: 33.8054\n",
            "Epoch [7/500], Loss: 36.3959\n",
            "Epoch [8/500], Loss: 36.8489\n",
            "Epoch [9/500], Loss: 38.3754\n",
            "Epoch [10/500], Loss: 37.8321\n",
            "Epoch [11/500], Loss: 38.7545\n",
            "Epoch [12/500], Loss: 38.3107\n",
            "Epoch [13/500], Loss: 36.0547\n",
            "Epoch [14/500], Loss: 32.6164\n",
            "Epoch [15/500], Loss: 29.8738\n",
            "Epoch [16/500], Loss: 28.3972\n",
            "new model saved with epoch loss 27.20147693858427\n",
            "Epoch [17/500], Loss: 27.2015\n",
            "new model saved with epoch loss 26.214876174926758\n",
            "Epoch [18/500], Loss: 26.2149\n",
            "new model saved with epoch loss 25.013960557825424\n",
            "Epoch [19/500], Loss: 25.0140\n",
            "new model saved with epoch loss 23.181272057925952\n",
            "Epoch [20/500], Loss: 23.1813\n",
            "new model saved with epoch loss 21.259897793040555\n",
            "Epoch [21/500], Loss: 21.2599\n",
            "new model saved with epoch loss 20.18695634954116\n",
            "Epoch [22/500], Loss: 20.1870\n",
            "new model saved with epoch loss 18.821848701028262\n",
            "Epoch [23/500], Loss: 18.8218\n",
            "new model saved with epoch loss 18.41143804437974\n",
            "Epoch [24/500], Loss: 18.4114\n",
            "new model saved with epoch loss 17.372617721557617\n",
            "Epoch [25/500], Loss: 17.3726\n",
            "new model saved with epoch loss 16.523944910834818\n",
            "Epoch [26/500], Loss: 16.5239\n",
            "new model saved with epoch loss 15.534783980425667\n",
            "Epoch [27/500], Loss: 15.5348\n",
            "new model saved with epoch loss 14.452892275417552\n",
            "Epoch [28/500], Loss: 14.4529\n",
            "new model saved with epoch loss 13.846020530251895\n",
            "Epoch [29/500], Loss: 13.8460\n",
            "new model saved with epoch loss 12.797962300917682\n",
            "Epoch [30/500], Loss: 12.7980\n",
            "new model saved with epoch loss 11.785974979400635\n",
            "Epoch [31/500], Loss: 11.7860\n",
            "new model saved with epoch loss 11.172851646647734\n",
            "Epoch [32/500], Loss: 11.1729\n",
            "new model saved with epoch loss 10.537138125475716\n",
            "Epoch [33/500], Loss: 10.5371\n",
            "new model saved with epoch loss 10.324020133298987\n",
            "Epoch [34/500], Loss: 10.3240\n",
            "new model saved with epoch loss 9.637942398295683\n",
            "Epoch [35/500], Loss: 9.6379\n",
            "new model saved with epoch loss 8.610491359935088\n",
            "Epoch [36/500], Loss: 8.6105\n",
            "new model saved with epoch loss 7.979549155515783\n",
            "Epoch [37/500], Loss: 7.9795\n",
            "new model saved with epoch loss 7.6752229297862335\n",
            "Epoch [38/500], Loss: 7.6752\n",
            "new model saved with epoch loss 7.319271452286664\n",
            "Epoch [39/500], Loss: 7.3193\n",
            "new model saved with epoch loss 6.6207975780262665\n",
            "Epoch [40/500], Loss: 6.6208\n",
            "new model saved with epoch loss 6.063255422255573\n",
            "Epoch [41/500], Loss: 6.0633\n",
            "new model saved with epoch loss 5.749120880575741\n",
            "Epoch [42/500], Loss: 5.7491\n",
            "new model saved with epoch loss 5.3104508904849785\n",
            "Epoch [43/500], Loss: 5.3105\n",
            "new model saved with epoch loss 4.933293679181268\n",
            "Epoch [44/500], Loss: 4.9333\n",
            "new model saved with epoch loss 4.492289557176478\n",
            "Epoch [45/500], Loss: 4.4923\n",
            "new model saved with epoch loss 4.355202759013457\n",
            "Epoch [46/500], Loss: 4.3552\n",
            "new model saved with epoch loss 4.192960213212406\n",
            "Epoch [47/500], Loss: 4.1930\n",
            "new model saved with epoch loss 4.088064235799453\n",
            "Epoch [48/500], Loss: 4.0881\n",
            "new model saved with epoch loss 3.789666175842285\n",
            "Epoch [49/500], Loss: 3.7897\n",
            "new model saved with epoch loss 3.7652068699107453\n",
            "Epoch [50/500], Loss: 3.7652\n",
            "new model saved with epoch loss 3.6838047644671272\n",
            "Epoch [51/500], Loss: 3.6838\n",
            "new model saved with epoch loss 3.5535859500660614\n",
            "Epoch [52/500], Loss: 3.5536\n",
            "new model saved with epoch loss 3.5273792883929085\n",
            "Epoch [53/500], Loss: 3.5274\n",
            "new model saved with epoch loss 3.515728796229643\n",
            "Epoch [54/500], Loss: 3.5157\n",
            "new model saved with epoch loss 3.5082959427553067\n",
            "Epoch [55/500], Loss: 3.5083\n",
            "new model saved with epoch loss 3.481018711538876\n",
            "Epoch [56/500], Loss: 3.4810\n",
            "new model saved with epoch loss 3.422913439133588\n",
            "Epoch [57/500], Loss: 3.4229\n",
            "Epoch [58/500], Loss: 3.4315\n",
            "new model saved with epoch loss 3.382304373909445\n",
            "Epoch [59/500], Loss: 3.3823\n",
            "new model saved with epoch loss 3.366431383525624\n",
            "Epoch [60/500], Loss: 3.3664\n",
            "new model saved with epoch loss 3.3301126816693474\n",
            "Epoch [61/500], Loss: 3.3301\n",
            "new model saved with epoch loss 3.2678297968471752\n",
            "Epoch [62/500], Loss: 3.2678\n",
            "new model saved with epoch loss 3.239750581629136\n",
            "Epoch [63/500], Loss: 3.2398\n",
            "new model saved with epoch loss 3.220733923070571\n",
            "Epoch [64/500], Loss: 3.2207\n",
            "Epoch [65/500], Loss: 3.2625\n",
            "Epoch [66/500], Loss: 3.2299\n",
            "new model saved with epoch loss 3.209149206385893\n",
            "Epoch [67/500], Loss: 3.2091\n",
            "new model saved with epoch loss 3.1565623984617344\n",
            "Epoch [68/500], Loss: 3.1566\n",
            "new model saved with epoch loss 3.1479237780851475\n",
            "Epoch [69/500], Loss: 3.1479\n",
            "new model saved with epoch loss 3.1396198132458855\n",
            "Epoch [70/500], Loss: 3.1396\n",
            "Epoch [71/500], Loss: 3.1715\n",
            "Epoch [72/500], Loss: 3.1540\n",
            "Epoch [73/500], Loss: 3.1722\n",
            "new model saved with epoch loss 3.139325730940875\n",
            "Epoch [74/500], Loss: 3.1393\n",
            "new model saved with epoch loss 3.1373328180874096\n",
            "Epoch [75/500], Loss: 3.1373\n",
            "new model saved with epoch loss 3.1292792628793156\n",
            "Epoch [76/500], Loss: 3.1293\n",
            "Epoch [77/500], Loss: 3.1500\n",
            "new model saved with epoch loss 3.119281572454116\n",
            "Epoch [78/500], Loss: 3.1193\n",
            "Epoch [79/500], Loss: 3.1312\n",
            "new model saved with epoch loss 3.0715811673332665\n",
            "Epoch [80/500], Loss: 3.0716\n",
            "new model saved with epoch loss 3.0669522145215202\n",
            "Epoch [81/500], Loss: 3.0670\n",
            "new model saved with epoch loss 3.0510108330670525\n",
            "Epoch [82/500], Loss: 3.0510\n",
            "Epoch [83/500], Loss: 3.0670\n",
            "Epoch [84/500], Loss: 3.0720\n",
            "Epoch [85/500], Loss: 3.0714\n",
            "Epoch [86/500], Loss: 3.0989\n",
            "Epoch [87/500], Loss: 3.0633\n",
            "Epoch [88/500], Loss: 3.0601\n",
            "new model saved with epoch loss 3.0122158106635597\n",
            "Epoch [89/500], Loss: 3.0122\n",
            "new model saved with epoch loss 3.0050812188316796\n",
            "Epoch [90/500], Loss: 3.0051\n",
            "Epoch [91/500], Loss: 3.0063\n",
            "Epoch [92/500], Loss: 3.0108\n",
            "new model saved with epoch loss 2.986467677004197\n",
            "Epoch [93/500], Loss: 2.9865\n",
            "new model saved with epoch loss 2.9764183198704437\n",
            "Epoch [94/500], Loss: 2.9764\n",
            "new model saved with epoch loss 2.9457851157468906\n",
            "Epoch [95/500], Loss: 2.9458\n",
            "Epoch [96/500], Loss: 2.9956\n",
            "Epoch [97/500], Loss: 2.9938\n",
            "Epoch [98/500], Loss: 2.9907\n",
            "Epoch [99/500], Loss: 2.9737\n",
            "Epoch [100/500], Loss: 2.9759\n",
            "Epoch [101/500], Loss: 2.9695\n",
            "Epoch [102/500], Loss: 2.9651\n",
            "Epoch [103/500], Loss: 2.9587\n",
            "Epoch [104/500], Loss: 2.9549\n",
            "new model saved with epoch loss 2.9432673314038444\n",
            "Epoch [105/500], Loss: 2.9433\n",
            "Epoch [106/500], Loss: 2.9624\n",
            "new model saved with epoch loss 2.941338104360244\n",
            "Epoch [107/500], Loss: 2.9413\n",
            "Epoch [108/500], Loss: 2.9488\n",
            "new model saved with epoch loss 2.9217355251312256\n",
            "Epoch [109/500], Loss: 2.9217\n",
            "Epoch [110/500], Loss: 2.9363\n",
            "Epoch [111/500], Loss: 2.9333\n",
            "Epoch [112/500], Loss: 2.9474\n",
            "Epoch [113/500], Loss: 2.9349\n",
            "Epoch [114/500], Loss: 2.9634\n",
            "Epoch [115/500], Loss: 2.9432\n",
            "Epoch [116/500], Loss: 2.9514\n",
            "Epoch [117/500], Loss: 2.9482\n",
            "Epoch [118/500], Loss: 2.9391\n",
            "Epoch [119/500], Loss: 2.9358\n",
            "new model saved with epoch loss 2.9130730628967285\n",
            "Epoch [120/500], Loss: 2.9131\n",
            "Epoch [121/500], Loss: 2.9144\n",
            "new model saved with epoch loss 2.900148300563588\n",
            "Epoch [122/500], Loss: 2.9001\n",
            "new model saved with epoch loss 2.8914780616760254\n",
            "Epoch [123/500], Loss: 2.8915\n",
            "Epoch [124/500], Loss: 2.8915\n",
            "Epoch [125/500], Loss: 2.9056\n",
            "Epoch [126/500], Loss: 2.9002\n",
            "Epoch [127/500], Loss: 2.9192\n",
            "Epoch [128/500], Loss: 2.9022\n",
            "Epoch [129/500], Loss: 2.9037\n",
            "Epoch [130/500], Loss: 2.8940\n",
            "Epoch [131/500], Loss: 2.9063\n",
            "Epoch [132/500], Loss: 2.9044\n",
            "Epoch [133/500], Loss: 2.9213\n",
            "Epoch [134/500], Loss: 2.9010\n",
            "Epoch [135/500], Loss: 2.9102\n",
            "new model saved with epoch loss 2.8860506730921127\n",
            "Epoch [136/500], Loss: 2.8861\n",
            "new model saved with epoch loss 2.876311596702127\n",
            "Epoch [137/500], Loss: 2.8763\n",
            "new model saved with epoch loss 2.8759004158132218\n",
            "Epoch [138/500], Loss: 2.8759\n",
            "Epoch [139/500], Loss: 2.8834\n",
            "new model saved with epoch loss 2.8732386056114647\n",
            "Epoch [140/500], Loss: 2.8732\n",
            "Epoch [141/500], Loss: 2.8794\n",
            "Epoch [142/500], Loss: 2.8854\n",
            "Epoch [143/500], Loss: 2.8990\n",
            "Epoch [144/500], Loss: 2.8930\n",
            "Epoch [145/500], Loss: 2.8926\n",
            "Epoch [146/500], Loss: 2.8825\n",
            "Epoch [147/500], Loss: 2.8873\n",
            "Epoch [148/500], Loss: 2.8752\n",
            "Epoch [149/500], Loss: 2.8860\n",
            "Epoch [150/500], Loss: 2.8897\n",
            "Epoch [151/500], Loss: 2.8783\n",
            "Epoch [152/500], Loss: 2.8833\n",
            "new model saved with epoch loss 2.8664691307965446\n",
            "Epoch [153/500], Loss: 2.8665\n",
            "Epoch [154/500], Loss: 2.8697\n",
            "Epoch [155/500], Loss: 2.8689\n",
            "Epoch [156/500], Loss: 2.8869\n",
            "Epoch [157/500], Loss: 2.8835\n",
            "Epoch [158/500], Loss: 2.8811\n",
            "Epoch [159/500], Loss: 2.9019\n",
            "Epoch [160/500], Loss: 2.8861\n",
            "Epoch [161/500], Loss: 2.8934\n",
            "Epoch [162/500], Loss: 2.8741\n",
            "new model saved with epoch loss 2.8541000029620003\n",
            "Epoch [163/500], Loss: 2.8541\n",
            "new model saved with epoch loss 2.850170752581428\n",
            "Epoch [164/500], Loss: 2.8502\n",
            "Epoch [165/500], Loss: 2.8566\n",
            "Epoch [166/500], Loss: 2.8747\n",
            "Epoch [167/500], Loss: 2.8742\n",
            "Epoch [168/500], Loss: 2.8889\n",
            "Epoch [169/500], Loss: 2.8959\n",
            "Epoch [170/500], Loss: 2.8933\n",
            "Epoch [171/500], Loss: 2.8899\n",
            "Epoch [172/500], Loss: 2.8799\n",
            "Epoch [173/500], Loss: 2.8831\n",
            "Epoch [174/500], Loss: 2.8938\n",
            "Epoch [175/500], Loss: 2.8867\n",
            "Epoch [176/500], Loss: 2.8943\n",
            "Epoch [177/500], Loss: 2.8886\n",
            "Epoch [178/500], Loss: 2.8870\n",
            "Epoch [179/500], Loss: 2.8743\n",
            "Epoch [180/500], Loss: 2.8703\n",
            "Epoch [181/500], Loss: 2.8641\n",
            "Epoch [182/500], Loss: 2.8750\n",
            "Epoch [183/500], Loss: 2.8772\n",
            "Epoch [184/500], Loss: 2.8840\n",
            "Epoch [185/500], Loss: 2.8722\n",
            "Epoch [186/500], Loss: 2.8782\n",
            "Epoch [187/500], Loss: 2.8637\n",
            "Epoch [188/500], Loss: 2.8754\n",
            "Epoch [189/500], Loss: 2.8668\n",
            "Epoch [190/500], Loss: 2.8899\n",
            "Epoch [191/500], Loss: 2.8821\n",
            "Epoch [192/500], Loss: 2.9033\n",
            "Epoch [193/500], Loss: 2.8839\n",
            "Epoch [194/500], Loss: 2.9024\n",
            "Epoch [195/500], Loss: 2.8756\n",
            "Epoch [196/500], Loss: 2.8891\n",
            "Epoch [197/500], Loss: 2.8720\n",
            "Epoch [198/500], Loss: 2.8941\n",
            "Epoch [199/500], Loss: 2.8702\n",
            "Epoch [200/500], Loss: 2.8963\n",
            "Epoch [201/500], Loss: 2.8728\n",
            "Epoch [202/500], Loss: 2.9043\n",
            "Epoch [203/500], Loss: 2.8811\n",
            "Epoch [204/500], Loss: 2.8939\n",
            "Epoch [205/500], Loss: 2.8757\n",
            "Epoch [206/500], Loss: 2.8930\n",
            "Epoch [207/500], Loss: 2.8734\n",
            "Epoch [208/500], Loss: 2.8891\n",
            "Epoch [209/500], Loss: 2.8809\n",
            "Epoch [210/500], Loss: 2.9041\n",
            "Epoch [211/500], Loss: 2.8928\n",
            "Epoch [212/500], Loss: 2.8991\n",
            "Epoch [213/500], Loss: 2.8921\n",
            "Epoch [214/500], Loss: 2.8978\n",
            "Epoch [215/500], Loss: 2.8841\n",
            "Epoch [216/500], Loss: 2.8858\n",
            "Epoch [217/500], Loss: 2.8726\n",
            "Epoch [218/500], Loss: 2.8854\n",
            "Epoch [219/500], Loss: 2.8803\n",
            "Epoch [220/500], Loss: 2.8964\n",
            "Epoch [221/500], Loss: 2.8870\n",
            "Epoch [222/500], Loss: 2.9011\n",
            "Epoch [223/500], Loss: 2.8741\n",
            "Epoch [224/500], Loss: 2.8867\n",
            "Epoch [225/500], Loss: 2.8743\n",
            "Epoch [226/500], Loss: 2.9023\n",
            "Epoch [227/500], Loss: 2.8959\n",
            "Epoch [228/500], Loss: 2.9121\n",
            "Epoch [229/500], Loss: 2.8844\n",
            "Epoch [230/500], Loss: 2.8941\n",
            "Epoch [231/500], Loss: 2.8681\n",
            "Epoch [232/500], Loss: 2.9028\n",
            "Epoch [233/500], Loss: 2.8945\n",
            "Epoch [234/500], Loss: 2.9217\n",
            "Epoch [235/500], Loss: 2.9010\n",
            "Epoch [236/500], Loss: 2.8932\n",
            "Epoch [237/500], Loss: 2.8693\n",
            "Epoch [238/500], Loss: 2.8801\n",
            "Epoch [239/500], Loss: 2.8764\n",
            "Epoch [240/500], Loss: 2.9180\n",
            "Epoch [241/500], Loss: 2.8902\n",
            "Epoch [242/500], Loss: 2.8949\n",
            "Epoch [243/500], Loss: 2.8814\n",
            "Epoch [244/500], Loss: 2.8848\n",
            "Epoch [245/500], Loss: 2.9008\n",
            "Epoch [246/500], Loss: 2.9171\n",
            "Epoch [247/500], Loss: 2.9512\n",
            "Epoch [248/500], Loss: 2.9706\n",
            "Epoch [249/500], Loss: 3.2310\n",
            "Epoch [250/500], Loss: 5.6843\n",
            "Epoch [251/500], Loss: 21.5475\n",
            "Epoch [252/500], Loss: 82.1927\n",
            "Epoch [253/500], Loss: 77.2253\n",
            "Epoch [254/500], Loss: 93.9209\n",
            "Epoch [255/500], Loss: 124.1728\n",
            "Epoch [256/500], Loss: 122.2997\n",
            "Epoch [257/500], Loss: 106.8623\n",
            "Epoch [258/500], Loss: 88.5113\n",
            "Epoch [259/500], Loss: 81.0550\n",
            "Epoch [260/500], Loss: 71.5873\n",
            "Epoch [261/500], Loss: 70.9098\n",
            "Epoch [262/500], Loss: 59.5708\n",
            "Epoch [263/500], Loss: 51.4414\n",
            "Epoch [264/500], Loss: 47.0953\n",
            "Epoch [265/500], Loss: 43.0060\n",
            "Epoch [266/500], Loss: 37.1351\n",
            "Epoch [267/500], Loss: 35.3780\n",
            "Epoch [268/500], Loss: 30.2628\n",
            "Epoch [269/500], Loss: 25.4304\n",
            "Epoch [270/500], Loss: 23.3940\n",
            "Epoch [271/500], Loss: 20.5689\n",
            "Epoch [272/500], Loss: 19.1218\n",
            "Epoch [273/500], Loss: 15.9333\n",
            "Epoch [274/500], Loss: 13.3028\n",
            "Epoch [275/500], Loss: 11.8695\n",
            "Epoch [276/500], Loss: 10.7115\n",
            "Epoch [277/500], Loss: 9.6989\n",
            "Epoch [278/500], Loss: 9.1204\n",
            "Epoch [279/500], Loss: 8.0472\n",
            "Epoch [280/500], Loss: 7.3709\n",
            "Epoch [281/500], Loss: 6.7183\n",
            "Epoch [282/500], Loss: 6.4061\n",
            "Epoch [283/500], Loss: 5.8434\n",
            "Epoch [284/500], Loss: 5.4487\n",
            "Epoch [285/500], Loss: 5.2325\n",
            "Epoch [286/500], Loss: 5.0138\n",
            "Epoch [287/500], Loss: 4.5189\n",
            "Epoch [288/500], Loss: 4.2652\n",
            "Epoch [289/500], Loss: 3.9890\n",
            "Epoch [290/500], Loss: 3.8293\n",
            "Epoch [291/500], Loss: 3.5827\n",
            "Epoch [292/500], Loss: 3.3205\n",
            "Epoch [293/500], Loss: 3.2777\n",
            "Epoch [294/500], Loss: 3.0629\n",
            "Epoch [295/500], Loss: 3.0412\n",
            "Epoch [296/500], Loss: 2.9525\n",
            "Epoch [297/500], Loss: 2.9096\n",
            "Epoch [298/500], Loss: 2.8799\n",
            "Epoch [299/500], Loss: 2.8964\n",
            "Epoch [300/500], Loss: 2.9000\n",
            "Epoch [301/500], Loss: 2.9432\n",
            "Epoch [302/500], Loss: 2.9089\n",
            "Epoch [303/500], Loss: 2.9189\n",
            "Epoch [304/500], Loss: 2.8821\n",
            "Epoch [305/500], Loss: 2.9162\n",
            "Epoch [306/500], Loss: 2.8713\n",
            "Epoch [307/500], Loss: 2.9144\n",
            "Epoch [308/500], Loss: 2.9356\n",
            "Epoch [309/500], Loss: 2.9574\n",
            "Epoch [310/500], Loss: 2.9055\n",
            "Epoch [311/500], Loss: 2.9188\n",
            "Epoch [312/500], Loss: 2.8745\n",
            "Epoch [313/500], Loss: 2.8811\n",
            "Epoch [314/500], Loss: 2.8648\n",
            "Epoch [315/500], Loss: 2.8549\n",
            "new model saved with epoch loss 2.8346682015587303\n",
            "Epoch [316/500], Loss: 2.8347\n",
            "Epoch [317/500], Loss: 2.8370\n",
            "new model saved with epoch loss 2.8159253807628857\n",
            "Epoch [318/500], Loss: 2.8159\n",
            "new model saved with epoch loss 2.8132326462689567\n",
            "Epoch [319/500], Loss: 2.8132\n",
            "Epoch [320/500], Loss: 2.8178\n",
            "Epoch [321/500], Loss: 2.8203\n",
            "Epoch [322/500], Loss: 2.8343\n",
            "Epoch [323/500], Loss: 2.8294\n",
            "Epoch [324/500], Loss: 2.8543\n",
            "Epoch [325/500], Loss: 2.8461\n",
            "Epoch [326/500], Loss: 2.8629\n",
            "Epoch [327/500], Loss: 2.8706\n",
            "Epoch [328/500], Loss: 2.8991\n",
            "Epoch [329/500], Loss: 2.8812\n",
            "Epoch [330/500], Loss: 2.8707\n",
            "Epoch [331/500], Loss: 2.8653\n",
            "Epoch [332/500], Loss: 2.8683\n",
            "Epoch [333/500], Loss: 2.8567\n",
            "Epoch [334/500], Loss: 2.8422\n",
            "Epoch [335/500], Loss: 2.8381\n",
            "Epoch [336/500], Loss: 2.8230\n",
            "Epoch [337/500], Loss: 2.8342\n",
            "new model saved with epoch loss 2.8096768505433025\n",
            "Epoch [338/500], Loss: 2.8097\n",
            "Epoch [339/500], Loss: 2.8110\n",
            "new model saved with epoch loss 2.8054072716656853\n",
            "Epoch [340/500], Loss: 2.8054\n",
            "Epoch [341/500], Loss: 2.8138\n",
            "Epoch [342/500], Loss: 2.8236\n",
            "Epoch [343/500], Loss: 2.8401\n",
            "Epoch [344/500], Loss: 2.8121\n",
            "Epoch [345/500], Loss: 2.8321\n",
            "Epoch [346/500], Loss: 2.8110\n",
            "Epoch [347/500], Loss: 2.8408\n",
            "Epoch [348/500], Loss: 2.8227\n",
            "Epoch [349/500], Loss: 2.8419\n",
            "Epoch [350/500], Loss: 2.8290\n",
            "Epoch [351/500], Loss: 2.8408\n",
            "Epoch [352/500], Loss: 2.8222\n",
            "Epoch [353/500], Loss: 2.8304\n",
            "Epoch [354/500], Loss: 2.8155\n",
            "Epoch [355/500], Loss: 2.8308\n",
            "Epoch [356/500], Loss: 2.8302\n",
            "Epoch [357/500], Loss: 2.8209\n",
            "Epoch [358/500], Loss: 2.8152\n",
            "Epoch [359/500], Loss: 2.8210\n",
            "Epoch [360/500], Loss: 2.8225\n",
            "Epoch [361/500], Loss: 2.8083\n",
            "Epoch [362/500], Loss: 2.8094\n",
            "Epoch [363/500], Loss: 2.8096\n",
            "Epoch [364/500], Loss: 2.8104\n",
            "Epoch [365/500], Loss: 2.8061\n",
            "Epoch [366/500], Loss: 2.8113\n",
            "Epoch [367/500], Loss: 2.8192\n",
            "Epoch [368/500], Loss: 2.8136\n",
            "Epoch [369/500], Loss: 2.8131\n",
            "Epoch [370/500], Loss: 2.8228\n",
            "Epoch [371/500], Loss: 2.8210\n",
            "Epoch [372/500], Loss: 2.8239\n",
            "Epoch [373/500], Loss: 2.8206\n",
            "Epoch [374/500], Loss: 2.8229\n",
            "Epoch [375/500], Loss: 2.8284\n",
            "Epoch [376/500], Loss: 2.8239\n",
            "Epoch [377/500], Loss: 2.8340\n",
            "Epoch [378/500], Loss: 2.8118\n",
            "Epoch [379/500], Loss: 2.8155\n",
            "Epoch [380/500], Loss: 2.8136\n",
            "Epoch [381/500], Loss: 2.8274\n",
            "Epoch [382/500], Loss: 2.8227\n",
            "Epoch [383/500], Loss: 2.8400\n",
            "Epoch [384/500], Loss: 2.8294\n",
            "Epoch [385/500], Loss: 2.8340\n",
            "Epoch [386/500], Loss: 2.8142\n",
            "new model saved with epoch loss 2.8036633800057804\n",
            "Epoch [387/500], Loss: 2.8037\n",
            "new model saved with epoch loss 2.7984087817809162\n",
            "Epoch [388/500], Loss: 2.7984\n",
            "Epoch [389/500], Loss: 2.8079\n",
            "Epoch [390/500], Loss: 2.8267\n",
            "Epoch [391/500], Loss: 2.8217\n",
            "Epoch [392/500], Loss: 2.8243\n",
            "Epoch [393/500], Loss: 2.8158\n",
            "Epoch [394/500], Loss: 2.8247\n",
            "Epoch [395/500], Loss: 2.8098\n",
            "Epoch [396/500], Loss: 2.8151\n",
            "Epoch [397/500], Loss: 2.8092\n",
            "Epoch [398/500], Loss: 2.8147\n",
            "Epoch [399/500], Loss: 2.8098\n",
            "Epoch [400/500], Loss: 2.8134\n",
            "Epoch [401/500], Loss: 2.8042\n",
            "Epoch [402/500], Loss: 2.8140\n",
            "Epoch [403/500], Loss: 2.8142\n",
            "Epoch [404/500], Loss: 2.8135\n",
            "Epoch [405/500], Loss: 2.8146\n",
            "Epoch [406/500], Loss: 2.8008\n",
            "new model saved with epoch loss 2.789319732609917\n",
            "Epoch [407/500], Loss: 2.7893\n",
            "Epoch [408/500], Loss: 2.7908\n",
            "new model saved with epoch loss 2.7843543641707478\n",
            "Epoch [409/500], Loss: 2.7844\n",
            "Epoch [410/500], Loss: 2.7940\n",
            "Epoch [411/500], Loss: 2.7931\n",
            "Epoch [412/500], Loss: 2.8056\n",
            "Epoch [413/500], Loss: 2.8016\n",
            "Epoch [414/500], Loss: 2.8054\n",
            "Epoch [415/500], Loss: 2.8023\n",
            "Epoch [416/500], Loss: 2.8144\n",
            "Epoch [417/500], Loss: 2.8150\n",
            "Epoch [418/500], Loss: 2.8186\n",
            "Epoch [419/500], Loss: 2.8303\n",
            "Epoch [420/500], Loss: 2.8292\n",
            "Epoch [421/500], Loss: 2.8359\n",
            "Epoch [422/500], Loss: 2.8364\n",
            "Epoch [423/500], Loss: 2.8349\n",
            "Epoch [424/500], Loss: 2.8208\n",
            "Epoch [425/500], Loss: 2.8241\n",
            "Epoch [426/500], Loss: 2.8167\n",
            "Epoch [427/500], Loss: 2.8138\n",
            "Epoch [428/500], Loss: 2.8130\n",
            "Epoch [429/500], Loss: 2.7993\n",
            "Epoch [430/500], Loss: 2.7944\n",
            "Epoch [431/500], Loss: 2.7921\n",
            "Epoch [432/500], Loss: 2.7916\n",
            "Epoch [433/500], Loss: 2.7943\n",
            "Epoch [434/500], Loss: 2.7945\n",
            "Epoch [435/500], Loss: 2.7976\n",
            "Epoch [436/500], Loss: 2.8018\n",
            "Epoch [437/500], Loss: 2.8116\n",
            "Epoch [438/500], Loss: 2.8120\n",
            "Epoch [439/500], Loss: 2.8247\n",
            "Epoch [440/500], Loss: 2.8106\n",
            "Epoch [441/500], Loss: 2.8194\n",
            "Epoch [442/500], Loss: 2.8054\n",
            "Epoch [443/500], Loss: 2.8048\n",
            "Epoch [444/500], Loss: 2.7918\n",
            "Epoch [445/500], Loss: 2.7990\n",
            "Epoch [446/500], Loss: 2.8021\n",
            "Epoch [447/500], Loss: 2.8094\n",
            "Epoch [448/500], Loss: 2.8168\n",
            "Epoch [449/500], Loss: 2.8200\n",
            "Epoch [450/500], Loss: 2.8154\n",
            "Epoch [451/500], Loss: 2.8196\n",
            "Epoch [452/500], Loss: 2.8098\n",
            "Epoch [453/500], Loss: 2.8205\n",
            "Epoch [454/500], Loss: 2.8113\n",
            "Epoch [455/500], Loss: 2.8202\n",
            "Epoch [456/500], Loss: 2.8185\n",
            "Epoch [457/500], Loss: 2.8324\n",
            "Epoch [458/500], Loss: 2.8323\n",
            "Epoch [459/500], Loss: 2.8420\n",
            "Epoch [460/500], Loss: 2.8163\n",
            "Epoch [461/500], Loss: 2.8111\n",
            "Epoch [462/500], Loss: 2.7997\n",
            "Epoch [463/500], Loss: 2.7968\n",
            "Epoch [464/500], Loss: 2.8032\n",
            "Epoch [465/500], Loss: 2.8009\n",
            "Epoch [466/500], Loss: 2.8114\n",
            "Epoch [467/500], Loss: 2.8100\n",
            "Epoch [468/500], Loss: 2.8243\n",
            "Epoch [469/500], Loss: 2.8190\n",
            "Epoch [470/500], Loss: 2.8215\n",
            "Epoch [471/500], Loss: 2.8079\n",
            "Epoch [472/500], Loss: 2.8200\n",
            "Epoch [473/500], Loss: 2.8052\n",
            "Epoch [474/500], Loss: 2.8216\n",
            "Epoch [475/500], Loss: 2.8192\n",
            "Epoch [476/500], Loss: 2.8478\n",
            "Epoch [477/500], Loss: 2.8353\n",
            "Epoch [478/500], Loss: 2.8385\n",
            "Epoch [479/500], Loss: 2.8097\n",
            "Epoch [480/500], Loss: 2.8045\n",
            "Epoch [481/500], Loss: 2.7943\n",
            "Epoch [482/500], Loss: 2.8023\n",
            "Epoch [483/500], Loss: 2.7980\n",
            "Epoch [484/500], Loss: 2.8112\n",
            "Epoch [485/500], Loss: 2.8079\n",
            "Epoch [486/500], Loss: 2.8217\n",
            "Epoch [487/500], Loss: 2.8107\n",
            "Epoch [488/500], Loss: 2.8223\n",
            "Epoch [489/500], Loss: 2.8114\n",
            "Epoch [490/500], Loss: 2.8184\n",
            "Epoch [491/500], Loss: 2.8119\n",
            "Epoch [492/500], Loss: 2.8224\n",
            "Epoch [493/500], Loss: 2.8249\n",
            "Epoch [494/500], Loss: 2.8261\n",
            "Epoch [495/500], Loss: 2.8222\n",
            "Epoch [496/500], Loss: 2.8209\n",
            "Epoch [497/500], Loss: 2.8205\n",
            "Epoch [498/500], Loss: 2.8174\n",
            "Epoch [499/500], Loss: 2.8077\n",
            "Epoch [500/500], Loss: 2.8155\n",
            "Training finished\n"
          ],
          "name": "stdout"
        }
      ]
    },
    {
      "cell_type": "code",
      "metadata": {
        "colab": {
          "base_uri": "https://localhost:8080/",
          "height": 475
        },
        "id": "e5jIIF1yTq7Z",
        "outputId": "2f650752-fabe-446c-afd6-2bfa86b8b464"
      },
      "source": [
        "\r\n",
        "# with open('/content/loss_data/word2vec_ws10', 'wb') as file:\r\n",
        "#    pickle.dump(loss_list, file)\r\n",
        "\r\n",
        "##### loading the loss files for different window sizes #####\r\n",
        "with open('/content/loss_data/word2vec_ws1', 'rb') as file:\r\n",
        "   list_1 = pickle.load(file)\r\n",
        "with open('/content/loss_data/word2vec_ws2', 'rb') as file:\r\n",
        "   list_2 = pickle.load(file)\r\n",
        "with open('/content/loss_data/word2vec_ws3', 'rb') as file:\r\n",
        "   list_3 = pickle.load(file)\r\n",
        "with open('/content/loss_data/word2vec_ws4', 'rb') as file:\r\n",
        "   list_4 = pickle.load(file)\r\n",
        "with open('/content/loss_data/word2vec_ws5', 'rb') as file:\r\n",
        "   list_5 = pickle.load(file)\r\n",
        "with open('/content/loss_data/word2vec_ws10', 'rb') as file:\r\n",
        "   list_10 = pickle.load(file)\r\n",
        "\r\n",
        "fig, ax = plt.subplots(figsize=(14, 7))  # creating figure and an axes.\r\n",
        "ax.plot(list_1, label='window_size-1')  \r\n",
        "ax.plot(list_2, label='window_size-2')\r\n",
        "ax.plot(list_3, label='window_size-3')\r\n",
        "ax.plot(list_4, label='window_size-4')\r\n",
        "ax.plot(list_5, label='window_size-5')\r\n",
        "ax.plot(list_10, label='window_size-10')\r\n",
        "ax.set_xlabel('Epoch')  # sets an x-label to the axes.\r\n",
        "ax.set_ylabel('Loss')  # sets a y-label to the axes.\r\n",
        "ax.set_title(\"Loss of Model with Window Size Per Epoch Plot\")  # sets a title to the plot.\r\n",
        "ax.legend()  # adds a legend.\r\n"
      ],
      "execution_count": 61,
      "outputs": [
        {
          "output_type": "execute_result",
          "data": {
            "text/plain": [
              "<matplotlib.legend.Legend at 0x7fc66718fc50>"
            ]
          },
          "metadata": {
            "tags": []
          },
          "execution_count": 61
        },
        {
          "output_type": "display_data",
          "data": {
            "image/png": "[encoded data removed]",
            "text/plain": [
              "<Figure size 1008x504 with 1 Axes>"
            ]
          },
          "metadata": {
            "tags": [],
            "needs_background": "light"
          }
        }
      ]
    },
    {
      "cell_type": "markdown",
      "metadata": {
        "id": "BgQkaYstyj0Q"
      },
      "source": [
        "# 1.10 Train on the full dataset (0.5 points)\r\n",
        "\r\n",
        "Now, go back to 1.1 and remove the restriction on the number of sentences in your corpus. Then, reexecute code blocks 1.2, 1.3 and 1.6 (or those relevant if you created additional ones). \r\n",
        "\r\n",
        "* Then, retrain your model on the complete dataset.\r\n",
        "\r\n",
        "* Now, the input weights of the model contain the desired word embeddings! Save them together with the corresponding vocabulary items (Pytorch provides a nice [functionality](https://pytorch.org/tutorials/beginner/saving_loading_models.html) for this)."
      ]
    },
    {
      "cell_type": "code",
      "metadata": {
        "id": "CwTdN52FNdJt"
      },
      "source": [
        "word2vec_model.eval()"
      ],
      "execution_count": null,
      "outputs": []
    },
    {
      "cell_type": "markdown",
      "metadata": {
        "id": "95L1ZqV5SFg7"
      },
      "source": [
        "For **window_size** = 1, **embedding_size** = 300, **Best Epoch loss**: ?????<br/>\n",
        "For **window_size** = 2, **embedding_size** = 300, **Best Epoch loss**: 1.555 <br/>\n",
        "For **window_size** = 10, **embedding_size** = 300, **Best Epoch loss**: 1.8762"
      ]
    },
    {
      "cell_type": "code",
      "metadata": {
        "id": "z6MH2up2LCIf"
      },
      "source": [
        "## inferencing outputs for the word: bad(खराब) \n",
        "predictions = word2vec_model(torch.unsqueeze(torch.tensor(word_to_one_hot('modi')), 0).cuda())\n",
        "\n",
        "\n",
        "\n",
        "## sampling the top k neighbors for the input word\n",
        "for i in torch.topk(predictions, 15)[1][0]:\n",
        "  print(index2word[i.item()])\n",
        "\n",
        "\n",
        "print('-------')\n",
        "predictions2 = word2vec_model(torch.unsqueeze(torch.tensor(word_to_one_hot('स्कूल')), 0).cuda())\n",
        "## sampling the top k neighbors for the input word\n",
        "for i in torch.topk(predictions2, 15)[1][0]:\n",
        "  print(index2word[i.item()])\n"
      ],
      "execution_count": null,
      "outputs": []
    },
    {
      "cell_type": "code",
      "metadata": {
        "id": "v6JLB4m0PrHW"
      },
      "source": [
        "word2index['modi']"
      ],
      "execution_count": null,
      "outputs": []
    },
    {
      "cell_type": "code",
      "metadata": {
        "id": "qUl-e1GGNk7t"
      },
      "source": [
        "embedding_weights = word2vec_model.layer1.weight.data\n",
        "\n",
        "\n",
        "input1 = torch.unsqueeze(torch.tensor(word_to_one_hot('india')), 0).cuda()\n",
        "\n",
        "print(embedding_weights.shape, input1.T.shape)\n",
        "embedding1 = torch.matmul(embedding_weights, input1.T)\n",
        "\n",
        "\n",
        "input2 = torch.unsqueeze(torch.tensor(word_to_one_hot('modi')), 0).cuda()\n",
        "embedding2 = torch.matmul(embedding_weights, input2.T)\n",
        "\n",
        "\n",
        "torch.dot(embedding1.squeeze(1), embedding2.squeeze(1))\n"
      ],
      "execution_count": null,
      "outputs": []
    },
    {
      "cell_type": "code",
      "metadata": {
        "colab": {
          "base_uri": "https://localhost:8080/",
          "height": 17
        },
        "id": "3j00UOQIh4Dl",
        "outputId": "9606fed1-2809-48e2-8c06-9cae0b6b2cce"
      },
      "source": [
        "from google.colab import files\r\n",
        "files.download('loss_data/word2vec_ws10')"
      ],
      "execution_count": null,
      "outputs": [
        {
          "output_type": "display_data",
          "data": {
            "application/javascript": [
              "\n",
              "    async function download(id, filename, size) {\n",
              "      if (!google.colab.kernel.accessAllowed) {\n",
              "        return;\n",
              "      }\n",
              "      const div = document.createElement('div');\n",
              "      const label = document.createElement('label');\n",
              "      label.textContent = `Downloading \"${filename}\": `;\n",
              "      div.appendChild(label);\n",
              "      const progress = document.createElement('progress');\n",
              "      progress.max = size;\n",
              "      div.appendChild(progress);\n",
              "      document.body.appendChild(div);\n",
              "\n",
              "      const buffers = [];\n",
              "      let downloaded = 0;\n",
              "\n",
              "      const channel = await google.colab.kernel.comms.open(id);\n",
              "      // Send a message to notify the kernel that we're ready.\n",
              "      channel.send({})\n",
              "\n",
              "      for await (const message of channel.messages) {\n",
              "        // Send a message to notify the kernel that we're ready.\n",
              "        channel.send({})\n",
              "        if (message.buffers) {\n",
              "          for (const buffer of message.buffers) {\n",
              "            buffers.push(buffer);\n",
              "            downloaded += buffer.byteLength;\n",
              "            progress.value = downloaded;\n",
              "          }\n",
              "        }\n",
              "      }\n",
              "      const blob = new Blob(buffers, {type: 'application/binary'});\n",
              "      const a = document.createElement('a');\n",
              "      a.href = window.URL.createObjectURL(blob);\n",
              "      a.download = filename;\n",
              "      div.appendChild(a);\n",
              "      a.click();\n",
              "      div.remove();\n",
              "    }\n",
              "  "
            ],
            "text/plain": [
              "<IPython.core.display.Javascript object>"
            ]
          },
          "metadata": {
            "tags": []
          }
        },
        {
          "output_type": "display_data",
          "data": {
            "application/javascript": [
              "download(\"download_18a1d9cf-1063-4ceb-95a4-e4b2adeb457e\", \"word2vec_ws10\", 14854)"
            ],
            "text/plain": [
              "<IPython.core.display.Javascript object>"
            ]
          },
          "metadata": {
            "tags": []
          }
        }
      ]
    }
  ]
}